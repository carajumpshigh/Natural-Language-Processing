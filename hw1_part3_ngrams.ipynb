{
  "nbformat": 4,
  "nbformat_minor": 0,
  "metadata": {
    "kernelspec": {
      "display_name": "Python 3",
      "language": "python",
      "name": "python3"
    },
    "language_info": {
      "codemirror_mode": {
        "name": "ipython",
        "version": 3
      },
      "file_extension": ".py",
      "mimetype": "text/x-python",
      "name": "python",
      "nbconvert_exporter": "python",
      "pygments_lexer": "ipython3",
      "version": "3.7.4"
    },
    "colab": {
      "name": "hw1_part3_ngrams.ipynb",
      "provenance": [],
      "collapsed_sections": []
    },
    "accelerator": "GPU"
  },
  "cells": [
    {
      "cell_type": "markdown",
      "metadata": {
        "id": "bW20HzxRWV_v"
      },
      "source": [
        "# DS-GA 1011 Homework 1 - Part 3\n",
        "## N-Gram Language Modeling"
      ]
    },
    {
      "cell_type": "code",
      "metadata": {
        "id": "IAuxyFabWV_y"
      },
      "source": [
        "import os\n",
        "import json\n",
        "import numpy as np\n",
        "from collections import defaultdict"
      ],
      "execution_count": null,
      "outputs": []
    },
    {
      "cell_type": "markdown",
      "metadata": {
        "id": "vrejWrHWWV_9"
      },
      "source": [
        "#### Utilities"
      ]
    },
    {
      "cell_type": "code",
      "metadata": {
        "id": "U4V6XIBZWWAC"
      },
      "source": [
        "def load_wikitext(filename='wikitext2-sentencized.json'):\n",
        "    if not os.path.exists(filename):\n",
        "        !wget \"https://nyu.box.com/shared/static/9kb7l7ci30hb6uahhbssjlq0kctr5ii4.json\" -O $filename\n",
        "    \n",
        "    datasets = json.load(open(filename, 'r'))\n",
        "    for name in datasets:\n",
        "        datasets[name] = [x.split() for x in datasets[name]]\n",
        "    vocab = list(set([t for ts in datasets['train'] for t in ts]))      \n",
        "    print(\"Vocab size: %d\" % (len(vocab)))\n",
        "    return datasets, vocab\n",
        "\n",
        "def perplexity(model, sequences):\n",
        "    n_total = 0\n",
        "    logp_total = 0\n",
        "    for sequence in sequences:\n",
        "        logp_total += model.sequence_logp(sequence)\n",
        "        n_total += len(sequence) + 1  \n",
        "    ppl = 2 ** (- (1.0 / n_total) * logp_total)  \n",
        "    return ppl"
      ],
      "execution_count": null,
      "outputs": []
    },
    {
      "cell_type": "markdown",
      "metadata": {
        "id": "EfQ51A2IWWAL"
      },
      "source": [
        "### Additive Smoothing"
      ]
    },
    {
      "cell_type": "markdown",
      "metadata": {
        "id": "ZCGxURFeWWAN"
      },
      "source": [
        "Fill in the ngram_prob method in the class below:"
      ]
    },
    {
      "cell_type": "code",
      "metadata": {
        "id": "Z-jFNqFzWWAP"
      },
      "source": [
        "class NGramAdditive(object):\n",
        "    def __init__(self, n, delta, vsize):\n",
        "        self.n = n\n",
        "        self.delta = delta\n",
        "        self.count = defaultdict(lambda: defaultdict(float))\n",
        "        self.total = defaultdict(float)\n",
        "        self.vsize = vsize\n",
        "    \n",
        "    def estimate(self, sequences):\n",
        "        for sequence in sequences:\n",
        "            padded_sequence = ['<bos>']*(self.n-1) + sequence + ['<eos>']\n",
        "            for i in range(len(padded_sequence) - self.n+1):\n",
        "                ngram = tuple(padded_sequence[i:i+self.n])\n",
        "                prefix, word = ngram[:-1], ngram[-1]\n",
        "                self.count[prefix][word] += 1\n",
        "                self.total[prefix] += 1\n",
        "                \n",
        "    def sequence_logp(self, sequence):\n",
        "        padded_sequence = ['<bos>']*(self.n-1) + sequence + ['<eos>']\n",
        "        total_logp = 0\n",
        "        for i in range(len(padded_sequence) - self.n+1):\n",
        "            ngram = tuple(padded_sequence[i:i+self.n])\n",
        "            total_logp += np.log2(self.ngram_prob(ngram))\n",
        "        return total_logp\n",
        "\n",
        "    def ngram_prob(self, ngram):\n",
        "        prefix, word = ngram[:-1], ngram[-1]\n",
        "        prob = (self.count[prefix][word] + self.delta) / (self.total[prefix] + self.delta * self.vsize)\n",
        "        return prob"
      ],
      "execution_count": null,
      "outputs": []
    },
    {
      "cell_type": "code",
      "metadata": {
        "id": "G0V9NU6wWWAW",
        "outputId": "030e9b8b-bf4e-456f-9bab-6800634948ff",
        "colab": {
          "base_uri": "https://localhost:8080/"
        }
      },
      "source": [
        "datasets, vocab = load_wikitext()\n",
        "\n",
        "delta = 0.0005\n",
        "for n in [2, 3, 4]:\n",
        "    lm = NGramAdditive(n=n, delta=delta, vsize=len(vocab)+1)  # +1 is for <eos>\n",
        "    lm.estimate(datasets['train'])\n",
        "\n",
        "    print(\"Baseline (Additive smoothing, n=%d, delta=%.4f)) Train Perplexity: %.3f\" % (n, delta, perplexity(lm, datasets['train'])))\n",
        "    print(\"Baseline (Additive smoothing, n=%d, delta=%.4f)) Valid Perplexity: %.3f\" % (n, delta, perplexity(lm, datasets['valid'])))"
      ],
      "execution_count": null,
      "outputs": [
        {
          "output_type": "stream",
          "text": [
            "--2020-10-07 00:00:10--  https://nyu.box.com/shared/static/9kb7l7ci30hb6uahhbssjlq0kctr5ii4.json\n",
            "Resolving nyu.box.com (nyu.box.com)... 107.152.24.197\n",
            "Connecting to nyu.box.com (nyu.box.com)|107.152.24.197|:443... connected.\n",
            "HTTP request sent, awaiting response... 301 Moved Permanently\n",
            "Location: /public/static/9kb7l7ci30hb6uahhbssjlq0kctr5ii4.json [following]\n",
            "--2020-10-07 00:00:10--  https://nyu.box.com/public/static/9kb7l7ci30hb6uahhbssjlq0kctr5ii4.json\n",
            "Reusing existing connection to nyu.box.com:443.\n",
            "HTTP request sent, awaiting response... 301 Moved Permanently\n",
            "Location: https://nyu.app.box.com/public/static/9kb7l7ci30hb6uahhbssjlq0kctr5ii4.json [following]\n",
            "--2020-10-07 00:00:10--  https://nyu.app.box.com/public/static/9kb7l7ci30hb6uahhbssjlq0kctr5ii4.json\n",
            "Resolving nyu.app.box.com (nyu.app.box.com)... 107.152.24.201\n",
            "Connecting to nyu.app.box.com (nyu.app.box.com)|107.152.24.201|:443... connected.\n",
            "HTTP request sent, awaiting response... 302 Found\n",
            "Location: https://public.boxcloud.com/d/1/b1!vS-um405cYBNyzA6zMvQy66NXjGXx5NUP8cPzIpX--MxR6Hl2MMCM-whKQ7uOHysjikXJICjCLvCf4GClz_7y7OA9U5Ia_wnnRFh35bMGspblVggbJA6XPg74UO6ON-0aMTmgk4xns17SVeWzjBVzQvao9qysItlr41ZShCxzaIrrXGs1mwxAsDHwkZn9hS_dIqspztYnOn40r1J_swC-sbYl0Yfg4h2rcpA1HonkG--79LMV_0UrQgmVfz_cw_54qO8LGV5JirkOc5qsKvPilVbXVSKJE6DzfkKTLu0vNoLoCasX7y53uMbYZd0KLjJwvEcoYlfjfkmZY9NX1U2wySpYsWOJgjeTnkx3vdk91Egd7fj2X64yGgM9GA3AzajnUmcP69QZRV823rMG1D-FKlOdYryCM0MxcMcNBtdlDMhgY1k3as5WER3agncNDl4mooK_zPyAE50fbUz8gmhCKOALds-VPr2Jw3O5kXAZ0xbH4Emj0M-M8Vh7vsbw7Oy-W-x775T3UYypfOW2i3oapQ-0-ZOlkb_VbaKoQwlHtyrv3_TR2FFjYe6gt4XX68Iu8VOLrUPnAI6qtcnBwoy3ZP0j6N_USBiW4DNxz-VZIw4LStoM94Zc5GNn_Wqkr352m6M2NwNNJtCofkqnrTLArdx86cYmMLj1o55IZam_TkQazU78vRGq6tc3_Gv8yTkq7gdav23hfc6djYaLf9VzdAtzg5WMyOvDLZQOHOFhUCB8xj3BILuUOQBOD2IwE5YWm2VA5EqFx1ABM2SpKOIZyM0InlfzUrby9njbI8__DUK8R-0dhA0B6x3wPVgJkDtnvzlazQKugYjHJH-MeaaUpaHVUceSDzzccF77NzdNsW2s0Y9QpiIoH2yz_ojd46CzCNEDjYB9nJbxuhJo-zcyLSmPMM-KljQbNg1doBbXspp_ZCnalh8C4T_PHUdmvOylHj07cWlQzpTgbPPne1Tr6209UTEHri2Q4z1bRZOM35AH8kC34CcSTH5oVvirnq9QowD7u962CRIzC3FRqXxC5bCdfVaiPg1O8bbDxWGn9UuEIdxio8fiurd2865xUIvqB9LkQcIEcKbHEg6OOdgTYottsJ-sTjiRcpK1Ef5UlePrqm4rrYQj2GvP4_HEG4ijw7p4oi4Hh0n4Y2f3oSFQ1woeZ7vX9SQH26hezEgUqhyTSaxuRfj9ZZfS4XyVuopJUKqIpQztuj2tlaw72UD1fenWJe0GWKg2b_2tyJ3qfqYyz-f8l7Ajhe5q82ucvxu-kozijaNvJoeeXYX811rEDBzXLq1gDV8OHlrWsSaDp_bnbUTJxf-MVpxVga5u_ZQR3BLuVSWH6eStQhBrbVJkK4cyiS13Ff2lbM9GuSfEQSGXiiQLyPRVg1Fea2aRln0QasmfjsJtDJn83AG6pA./download [following]\n",
            "--2020-10-07 00:00:11--  https://public.boxcloud.com/d/1/b1!vS-um405cYBNyzA6zMvQy66NXjGXx5NUP8cPzIpX--MxR6Hl2MMCM-whKQ7uOHysjikXJICjCLvCf4GClz_7y7OA9U5Ia_wnnRFh35bMGspblVggbJA6XPg74UO6ON-0aMTmgk4xns17SVeWzjBVzQvao9qysItlr41ZShCxzaIrrXGs1mwxAsDHwkZn9hS_dIqspztYnOn40r1J_swC-sbYl0Yfg4h2rcpA1HonkG--79LMV_0UrQgmVfz_cw_54qO8LGV5JirkOc5qsKvPilVbXVSKJE6DzfkKTLu0vNoLoCasX7y53uMbYZd0KLjJwvEcoYlfjfkmZY9NX1U2wySpYsWOJgjeTnkx3vdk91Egd7fj2X64yGgM9GA3AzajnUmcP69QZRV823rMG1D-FKlOdYryCM0MxcMcNBtdlDMhgY1k3as5WER3agncNDl4mooK_zPyAE50fbUz8gmhCKOALds-VPr2Jw3O5kXAZ0xbH4Emj0M-M8Vh7vsbw7Oy-W-x775T3UYypfOW2i3oapQ-0-ZOlkb_VbaKoQwlHtyrv3_TR2FFjYe6gt4XX68Iu8VOLrUPnAI6qtcnBwoy3ZP0j6N_USBiW4DNxz-VZIw4LStoM94Zc5GNn_Wqkr352m6M2NwNNJtCofkqnrTLArdx86cYmMLj1o55IZam_TkQazU78vRGq6tc3_Gv8yTkq7gdav23hfc6djYaLf9VzdAtzg5WMyOvDLZQOHOFhUCB8xj3BILuUOQBOD2IwE5YWm2VA5EqFx1ABM2SpKOIZyM0InlfzUrby9njbI8__DUK8R-0dhA0B6x3wPVgJkDtnvzlazQKugYjHJH-MeaaUpaHVUceSDzzccF77NzdNsW2s0Y9QpiIoH2yz_ojd46CzCNEDjYB9nJbxuhJo-zcyLSmPMM-KljQbNg1doBbXspp_ZCnalh8C4T_PHUdmvOylHj07cWlQzpTgbPPne1Tr6209UTEHri2Q4z1bRZOM35AH8kC34CcSTH5oVvirnq9QowD7u962CRIzC3FRqXxC5bCdfVaiPg1O8bbDxWGn9UuEIdxio8fiurd2865xUIvqB9LkQcIEcKbHEg6OOdgTYottsJ-sTjiRcpK1Ef5UlePrqm4rrYQj2GvP4_HEG4ijw7p4oi4Hh0n4Y2f3oSFQ1woeZ7vX9SQH26hezEgUqhyTSaxuRfj9ZZfS4XyVuopJUKqIpQztuj2tlaw72UD1fenWJe0GWKg2b_2tyJ3qfqYyz-f8l7Ajhe5q82ucvxu-kozijaNvJoeeXYX811rEDBzXLq1gDV8OHlrWsSaDp_bnbUTJxf-MVpxVga5u_ZQR3BLuVSWH6eStQhBrbVJkK4cyiS13Ff2lbM9GuSfEQSGXiiQLyPRVg1Fea2aRln0QasmfjsJtDJn83AG6pA./download\n",
            "Resolving public.boxcloud.com (public.boxcloud.com)... 107.152.24.200\n",
            "Connecting to public.boxcloud.com (public.boxcloud.com)|107.152.24.200|:443... connected.\n",
            "HTTP request sent, awaiting response... 200 OK\n",
            "Length: 12714601 (12M) [application/octet-stream]\n",
            "Saving to: ‘wikitext2-sentencized.json’\n",
            "\n",
            "wikitext2-sentenciz 100%[===================>]  12.12M  31.8MB/s    in 0.4s    \n",
            "\n",
            "2020-10-07 00:00:11 (31.8 MB/s) - ‘wikitext2-sentencized.json’ saved [12714601/12714601]\n",
            "\n",
            "Vocab size: 33175\n",
            "Baseline (Additive smoothing, n=2, delta=0.0005)) Train Perplexity: 90.228\n",
            "Baseline (Additive smoothing, n=2, delta=0.0005)) Valid Perplexity: 525.825\n",
            "Baseline (Additive smoothing, n=3, delta=0.0005)) Train Perplexity: 26.768\n",
            "Baseline (Additive smoothing, n=3, delta=0.0005)) Valid Perplexity: 2577.128\n",
            "Baseline (Additive smoothing, n=4, delta=0.0005)) Train Perplexity: 19.947\n",
            "Baseline (Additive smoothing, n=4, delta=0.0005)) Valid Perplexity: 9570.901\n"
          ],
          "name": "stdout"
        }
      ]
    },
    {
      "cell_type": "code",
      "metadata": {
        "id": "MrY4baOVWWAf",
        "outputId": "ffe5b2ec-e7c1-42d5-93b3-390082aead10",
        "colab": {
          "base_uri": "https://localhost:8080/"
        }
      },
      "source": [
        "datasets, vocab = load_wikitext()\n",
        "\n",
        "delta = 0.005\n",
        "for n in [2, 3, 4]:\n",
        "    lm = NGramAdditive(n=n, delta=delta, vsize=len(vocab)+1)  # +1 is for <eos>\n",
        "    lm.estimate(datasets['train'])\n",
        "\n",
        "    print(\"Baseline (Additive smoothing, n=%d, delta=%.4f)) Train Perplexity: %.3f\" % (n, delta, perplexity(lm, datasets['train'])))\n",
        "    print(\"Baseline (Additive smoothing, n=%d, delta=%.4f)) Valid Perplexity: %.3f\" % (n, delta, perplexity(lm, datasets['valid'])))"
      ],
      "execution_count": null,
      "outputs": [
        {
          "output_type": "stream",
          "text": [
            "Vocab size: 33175\n",
            "Baseline (Additive smoothing, n=2, delta=0.0050)) Train Perplexity: 138.787\n",
            "Baseline (Additive smoothing, n=2, delta=0.0050)) Valid Perplexity: 475.942\n",
            "Baseline (Additive smoothing, n=3, delta=0.0050)) Train Perplexity: 116.398\n",
            "Baseline (Additive smoothing, n=3, delta=0.0050)) Valid Perplexity: 2875.057\n",
            "Baseline (Additive smoothing, n=4, delta=0.0050)) Train Perplexity: 139.759\n",
            "Baseline (Additive smoothing, n=4, delta=0.0050)) Valid Perplexity: 10697.654\n"
          ],
          "name": "stdout"
        }
      ]
    },
    {
      "cell_type": "markdown",
      "metadata": {
        "id": "sa64avAVWWAo"
      },
      "source": [
        "Is 0.005 a good value for $\\delta$? Compare the model's perplexity across several orders of magnitude of $\\delta$ (e.g., 0.0005, 0.005, 0.05, 0.5, and 1)."
      ]
    },
    {
      "cell_type": "code",
      "metadata": {
        "id": "jocmCpB6WWAp",
        "outputId": "983cac70-81b7-41b8-ade2-8de04d788dbf",
        "colab": {
          "base_uri": "https://localhost:8080/"
        }
      },
      "source": [
        "from tqdm import tqdm\n",
        "from itertools import product\n",
        "\n",
        "ns = [2, 3, 4]\n",
        "deltas = np.array([0.0005, 0.005, 0.05, 0.5, 1])\n",
        "\n",
        "lms = {}\n",
        "combos = list(product(ns, deltas))\n",
        "for n, d in tqdm(combos, total=len(combos)):\n",
        "    lm = NGramAdditive(n=n, delta=d, vsize=len(vocab)+1)\n",
        "    lm.estimate(datasets['train'])    \n",
        "    lms[n, d] = lm\n",
        "\n",
        "T = np.zeros((len(ns), len(deltas)))\n",
        "V = np.zeros((len(ns), len(deltas)))\n",
        "\n",
        "for i, n in tqdm(enumerate(ns), total=len(ns)):\n",
        "    lm = lms[n, 0.0005]\n",
        "    for j, delta in enumerate(deltas):\n",
        "        lm.delta = delta\n",
        "        \n",
        "        T[i, j] = perplexity(lm, datasets['train'])\n",
        "        V[i, j] = perplexity(lm, datasets['valid'])"
      ],
      "execution_count": null,
      "outputs": [
        {
          "output_type": "stream",
          "text": [
            "100%|██████████| 15/15 [00:59<00:00,  3.97s/it]\n",
            "100%|██████████| 3/3 [01:59<00:00, 39.96s/it]\n"
          ],
          "name": "stderr"
        }
      ]
    },
    {
      "cell_type": "code",
      "metadata": {
        "id": "wTyWTLEgWWAx",
        "outputId": "a1e6fc01-98df-40ac-eec3-b8336b812111",
        "colab": {
          "base_uri": "https://localhost:8080/",
          "height": 352
        }
      },
      "source": [
        "import matplotlib.pyplot as plt\n",
        "\n",
        "fig, axs = plt.subplots(1, 2, figsize=(10, 4))\n",
        "for i in range(len(ns)):\n",
        "    axs[0].plot(T[i])\n",
        "    axs[1].plot(V[i])\n",
        "    \n",
        "axs[0].set_title(\"Train Perplexity\", fontsize=15)\n",
        "axs[1].set_title(\"Val Perplexity\", fontsize=15)\n",
        "\n",
        "axs[0].set_xticks(np.arange(len(deltas)))\n",
        "axs[1].set_xticks(np.arange(len(deltas)))\n",
        "\n",
        "axs[0].set_xticklabels(['{:.1e}'.format(x) for x in deltas], rotation=90)\n",
        "axs[1].set_xticklabels(['{:.1e}'.format(x) for x in deltas], rotation=90)\n",
        "\n",
        "axs[0].set_xlabel('delta', fontsize=15)\n",
        "axs[1].set_xlabel('delta', fontsize=15)\n",
        "\n",
        "axs[0].set_ylabel('ppl', fontsize=15)\n",
        "axs[1].set_ylabel('ppl', fontsize=15)\n",
        "\n",
        "plt.legend(ns, fontsize=15)"
      ],
      "execution_count": null,
      "outputs": [
        {
          "output_type": "execute_result",
          "data": {
            "text/plain": [
              "<matplotlib.legend.Legend at 0x7f232052a0f0>"
            ]
          },
          "metadata": {
            "tags": []
          },
          "execution_count": 7
        },
        {
          "output_type": "display_data",
          "data": {
            "image/png": "[encoded data removed]",
            "text/plain": [
              "<Figure size 720x288 with 2 Axes>"
            ]
          },
          "metadata": {
            "tags": [],
            "needs_background": "light"
          }
        }
      ]
    },
    {
      "cell_type": "markdown",
      "metadata": {
        "id": "Wk2nN1rQWWA2"
      },
      "source": [
        "0.0005 seems to be the best value for $\\delta$ when n = 3, 4, and 0.005 is the best value for $\\delta$ when n = 2, with the smallest preplexity results for the valid set."
      ]
    },
    {
      "cell_type": "markdown",
      "metadata": {
        "id": "IU9cHOH2WWA3"
      },
      "source": [
        "### Interpolation\n",
        "\n",
        "Implement interpolation smoothing, and find optimal settings of the hyperparameters ($\\lambda_1, \\ldots, \\lambda_n$), for each of $n \\in \\{2, 3, 4\\}$. You can use grid search (i.e., systematically loop through a range of possible values). Show your results, including perplexity for all of the lambda values you have experimented with. Remember: hyperparameter optimization needs to be performed on the validation set -- do not touch the test set until the last section of this notebook!"
      ]
    },
    {
      "cell_type": "code",
      "metadata": {
        "id": "ml04bjXEWWA4"
      },
      "source": [
        "class NGramInterpolation(object):\n",
        "    def __init__(self, n=2, lmd_0=0, lmd_1=0, lmd_2=0, lmd_3=0, vsize=0):\n",
        "        self.n = n\n",
        "        self.lmd_0 = lmd_0\n",
        "        self.lmd_1 = lmd_1\n",
        "        self.lmd_2 = lmd_2\n",
        "        self.lmd_3 = lmd_3\n",
        "        self.vsize = vsize\n",
        "        self.all_count = []\n",
        "        self.all_pre_total = []\n",
        "        self.all_word_total = []\n",
        "    \n",
        "    def set_detla(self, new_delta):\n",
        "        lmd_0 = new_delta[0] \n",
        "        lmd_1 = new_delta[1] \n",
        "        lmd_2 = new_delta[2]\n",
        "        lmd_3 = new_delta[3]\n",
        "\n",
        "    def estimate(self, sequences):\n",
        "        for num in range(2,self.n+1):\n",
        "            count = defaultdict(lambda: defaultdict(float))\n",
        "            pre_total = defaultdict(float)\n",
        "            word_total = defaultdict(float)\n",
        "            for sequence in sequences:\n",
        "                padded_sequence = ['<bos>']*(num-1) + sequence + ['<eos>']\n",
        "                for i in range(len(padded_sequence) - num+1):\n",
        "                    ngram = tuple(padded_sequence[i:i+num])\n",
        "                    prefix, word = ngram[:-1], ngram[-1]\n",
        "                    count[prefix][word] += 1\n",
        "                    pre_total[prefix] += 1\n",
        "                    word_total[word] += 1\n",
        "            self.all_count.append(count)\n",
        "            self.all_pre_total.append(pre_total)\n",
        "            self.all_word_total.append(word_total)\n",
        "                \n",
        "    def sequence_logp(self, sequence):\n",
        "        padded_sequence = ['<bos>']*(self.n-1) + sequence + ['<eos>']\n",
        "        total_logp = 0\n",
        "        for i in range(len(padded_sequence) - self.n+1):\n",
        "            ngram = tuple(padded_sequence[i:i+self.n])\n",
        "            total_logp += np.log2(self.ngram_prob(ngram))\n",
        "        return total_logp\n",
        "\n",
        "    def ngram_prob(self, ngram):\n",
        "        prefix, word = ngram[:-1], ngram[-1]\n",
        "        uni_prob = self.all_word_total[0][word] / self.vsize\n",
        "        prob = self.lmd_0 * uni_prob + (1 - self.lmd_0) * 1 / self.vsize\n",
        "        \n",
        "        if self.n >= 2:\n",
        "            if self.all_pre_total[0][prefix] == 0:\n",
        "                bi_prob = 1 / self.vsize\n",
        "            else:\n",
        "                bi_prob = self.all_count[0][prefix][word] / self.all_pre_total[0][prefix]\n",
        "            prob = self.lmd_1 * bi_prob + (1 - self.lmd_1) * prob\n",
        "            \n",
        "            if self.n >= 3:\n",
        "                if self.all_pre_total[1][prefix] == 0:\n",
        "                    tri_prob = 1/self.vsize\n",
        "                else:\n",
        "                    tri_prob = self.all_count[1][prefix][word] / self.all_pre_total[1][prefix]\n",
        "                prob = self.lmd_2 * tri_prob + (1 - self.lmd_2) * prob\n",
        "                \n",
        "                if self.n == 4:\n",
        "                    if self.all_pre_total[2][prefix] == 0:\n",
        "                        four_prob = 1/self.vsize\n",
        "                    else:\n",
        "                        four_prob = self.all_count[2][prefix][word] / self.all_pre_total[2][prefix]\n",
        "                    prob = self.lmd_3 * four_prob + (1 - self.lmd_3) * prob\n",
        "            \n",
        "        return prob"
      ],
      "execution_count": null,
      "outputs": []
    },
    {
      "cell_type": "code",
      "metadata": {
        "id": "eap9PsB9YSdW"
      },
      "source": [
        "import itertools\n",
        "d = [(a, 10-a) for a in range(1,10)]\n",
        "d_2 = []\n",
        "for i in d:\n",
        "    d_2.append((i[0]/10, i[1]/10, 0, 0))\n",
        "\n",
        "d = [(a, b-a, 10-b) for a, b in itertools.combinations(range(1, 10), 2)]\n",
        "d_3 = []\n",
        "for i in d:\n",
        "    d_3.append((i[0]/10, i[1]/10, i[2]/10, 0))\n",
        "\n",
        "d = [(a, b-a, c-b, 10-c) for a, b, c in itertools.combinations(range(1, 10), 3)]\n",
        "d_4 = []\n",
        "for i in d:\n",
        "    d_4.append((i[0]/10, i[1]/10, i[2]/10, i[3]/10))"
      ],
      "execution_count": null,
      "outputs": []
    },
    {
      "cell_type": "code",
      "metadata": {
        "id": "z2Qsq9mDYVoW",
        "outputId": "d9ca0c56-4adb-4323-e677-0502a32e7ad7",
        "colab": {
          "base_uri": "https://localhost:8080/"
        }
      },
      "source": [
        "for n in [2]:\n",
        "    for i in tqdm(d_2):\n",
        "        lm = NGramInterpolation(n=n, lmd_0=i[0], lmd_1=i[1], lmd_2=i[2], lmd_3=i[3], vsize=len(vocab)+1)  # +1 is for <eos>\n",
        "        lm.estimate(datasets['train'])\n",
        "        print(\"Baseline (Interpolation smoothing, n=%d, delta_1=%.4f, delta_2=%.4f, delta_3=%.4f, delta_4=%.4f)) Train Perplexity: %.3f\" % (n, i[0], i[1], i[2], i[3], perplexity(lm, datasets['train'])))\n",
        "        print(\"Baseline (Interpolation smoothing, n=%d, delta_1=%.4f, delta_2=%.4f, delta_3=%.4f, delta_4=%.4f)) Valid Perplexity: %.3f\" % (n, i[0], i[1], i[2], i[3], perplexity(lm, datasets['valid'])))\n",
        "        print(\"\")"
      ],
      "execution_count": null,
      "outputs": [
        {
          "output_type": "stream",
          "text": [
            "\n",
            "  0%|          | 0/10 [00:00<?, ?it/s]\u001b[A"
          ],
          "name": "stderr"
        },
        {
          "output_type": "stream",
          "text": [
            "Baseline (Interpolation smoothing, n=2, delta_1=0.1000, delta_2=0.9000, delta_3=0.0000, delta_4=0.0000)) Train Perplexity: 73.006\n"
          ],
          "name": "stdout"
        },
        {
          "output_type": "stream",
          "text": [
            "\n",
            " 10%|█         | 1/10 [00:08<01:19,  8.82s/it]\u001b[A"
          ],
          "name": "stderr"
        },
        {
          "output_type": "stream",
          "text": [
            "Baseline (Interpolation smoothing, n=2, delta_1=0.1000, delta_2=0.9000, delta_3=0.0000, delta_4=0.0000)) Valid Perplexity: 194.200\n",
            "\n",
            "Baseline (Interpolation smoothing, n=2, delta_1=0.2000, delta_2=0.8000, delta_3=0.0000, delta_4=0.0000)) Train Perplexity: 60.399\n"
          ],
          "name": "stdout"
        },
        {
          "output_type": "stream",
          "text": [
            "\n",
            " 20%|██        | 2/10 [00:17<01:10,  8.78s/it]\u001b[A"
          ],
          "name": "stderr"
        },
        {
          "output_type": "stream",
          "text": [
            "Baseline (Interpolation smoothing, n=2, delta_1=0.2000, delta_2=0.8000, delta_3=0.0000, delta_4=0.0000)) Valid Perplexity: 119.467\n",
            "\n",
            "Baseline (Interpolation smoothing, n=2, delta_1=0.3000, delta_2=0.7000, delta_3=0.0000, delta_4=0.0000)) Train Perplexity: 48.675\n"
          ],
          "name": "stdout"
        },
        {
          "output_type": "stream",
          "text": [
            "\n",
            " 30%|███       | 3/10 [00:26<01:01,  8.83s/it]\u001b[A"
          ],
          "name": "stderr"
        },
        {
          "output_type": "stream",
          "text": [
            "Baseline (Interpolation smoothing, n=2, delta_1=0.3000, delta_2=0.7000, delta_3=0.0000, delta_4=0.0000)) Valid Perplexity: 80.776\n",
            "\n",
            "Baseline (Interpolation smoothing, n=2, delta_1=0.4000, delta_2=0.6000, delta_3=0.0000, delta_4=0.0000)) Train Perplexity: 39.445\n"
          ],
          "name": "stdout"
        },
        {
          "output_type": "stream",
          "text": [
            "\n",
            " 40%|████      | 4/10 [00:35<00:52,  8.77s/it]\u001b[A"
          ],
          "name": "stderr"
        },
        {
          "output_type": "stream",
          "text": [
            "Baseline (Interpolation smoothing, n=2, delta_1=0.4000, delta_2=0.6000, delta_3=0.0000, delta_4=0.0000)) Valid Perplexity: 57.870\n",
            "\n",
            "Baseline (Interpolation smoothing, n=2, delta_1=0.5000, delta_2=0.5000, delta_3=0.0000, delta_4=0.0000)) Train Perplexity: 32.451\n"
          ],
          "name": "stdout"
        },
        {
          "output_type": "stream",
          "text": [
            "\n",
            " 50%|█████     | 5/10 [00:43<00:43,  8.78s/it]\u001b[A"
          ],
          "name": "stderr"
        },
        {
          "output_type": "stream",
          "text": [
            "Baseline (Interpolation smoothing, n=2, delta_1=0.5000, delta_2=0.5000, delta_3=0.0000, delta_4=0.0000)) Valid Perplexity: 43.289\n",
            "\n",
            "Baseline (Interpolation smoothing, n=2, delta_1=0.6000, delta_2=0.4000, delta_3=0.0000, delta_4=0.0000)) Train Perplexity: 27.180\n"
          ],
          "name": "stdout"
        },
        {
          "output_type": "stream",
          "text": [
            "\n",
            " 60%|██████    | 6/10 [00:52<00:35,  8.79s/it]\u001b[A"
          ],
          "name": "stderr"
        },
        {
          "output_type": "stream",
          "text": [
            "Baseline (Interpolation smoothing, n=2, delta_1=0.6000, delta_2=0.4000, delta_3=0.0000, delta_4=0.0000)) Valid Perplexity: 33.509\n",
            "\n",
            "Baseline (Interpolation smoothing, n=2, delta_1=0.7000, delta_2=0.3000, delta_3=0.0000, delta_4=0.0000)) Train Perplexity: 23.209\n"
          ],
          "name": "stdout"
        },
        {
          "output_type": "stream",
          "text": [
            "\n",
            " 70%|███████   | 7/10 [01:01<00:26,  8.81s/it]\u001b[A"
          ],
          "name": "stderr"
        },
        {
          "output_type": "stream",
          "text": [
            "Baseline (Interpolation smoothing, n=2, delta_1=0.7000, delta_2=0.3000, delta_3=0.0000, delta_4=0.0000)) Valid Perplexity: 26.681\n",
            "\n",
            "Baseline (Interpolation smoothing, n=2, delta_1=0.8000, delta_2=0.2000, delta_3=0.0000, delta_4=0.0000)) Train Perplexity: 20.254\n"
          ],
          "name": "stdout"
        },
        {
          "output_type": "stream",
          "text": [
            "\n",
            " 80%|████████  | 8/10 [01:10<00:17,  8.78s/it]\u001b[A"
          ],
          "name": "stderr"
        },
        {
          "output_type": "stream",
          "text": [
            "Baseline (Interpolation smoothing, n=2, delta_1=0.8000, delta_2=0.2000, delta_3=0.0000, delta_4=0.0000)) Valid Perplexity: 21.770\n",
            "\n",
            "Baseline (Interpolation smoothing, n=2, delta_1=0.9000, delta_2=0.1000, delta_3=0.0000, delta_4=0.0000)) Train Perplexity: 18.216\n"
          ],
          "name": "stdout"
        },
        {
          "output_type": "stream",
          "text": [
            "\n",
            " 90%|█████████ | 9/10 [01:18<00:08,  8.75s/it]\u001b[A"
          ],
          "name": "stderr"
        },
        {
          "output_type": "stream",
          "text": [
            "Baseline (Interpolation smoothing, n=2, delta_1=0.9000, delta_2=0.1000, delta_3=0.0000, delta_4=0.0000)) Valid Perplexity: 18.183\n",
            "\n",
            "Baseline (Interpolation smoothing, n=2, delta_1=1.0000, delta_2=0.0000, delta_3=0.0000, delta_4=0.0000)) Train Perplexity: 18.595\n"
          ],
          "name": "stdout"
        },
        {
          "output_type": "stream",
          "text": [
            "/usr/local/lib/python3.6/dist-packages/ipykernel_launcher.py:41: RuntimeWarning: divide by zero encountered in log2\n",
            "\n",
            "100%|██████████| 10/10 [01:27<00:00,  8.78s/it]"
          ],
          "name": "stderr"
        },
        {
          "output_type": "stream",
          "text": [
            "Baseline (Interpolation smoothing, n=2, delta_1=1.0000, delta_2=0.0000, delta_3=0.0000, delta_4=0.0000)) Valid Perplexity: inf\n",
            "\n"
          ],
          "name": "stdout"
        },
        {
          "output_type": "stream",
          "text": [
            "\n"
          ],
          "name": "stderr"
        }
      ]
    },
    {
      "cell_type": "code",
      "metadata": {
        "id": "S3V2pDZcaiVd",
        "outputId": "da2822d5-6fa1-470d-e222-d48d35cd0510",
        "colab": {
          "base_uri": "https://localhost:8080/"
        }
      },
      "source": [
        "for n in [3]:\n",
        "    for i in tqdm(d_3):\n",
        "        lm = NGramInterpolation(n=n, lmd_0=i[0], lmd_1=i[1], lmd_2=i[2], lmd_3=i[3], vsize=len(vocab)+1)  # +1 is for <eos>\n",
        "        lm.estimate(datasets['train'])\n",
        "        print(\"Baseline (Interpolation smoothing, n=%d, delta_1=%.4f, delta_2=%.4f, delta_3=%.4f, delta_4=%.4f)) Train Perplexity: %.3f\" % (n, i[0], i[1], i[2], i[3], perplexity(lm, datasets['train'])))\n",
        "        print(\"Baseline (Interpolation smoothing, n=%d, delta_1=%.4f, delta_2=%.4f, delta_3=%.4f, delta_4=%.4f)) Valid Perplexity: %.3f\" % (n, i[0], i[1], i[2], i[3], perplexity(lm, datasets['valid'])))\n",
        "        print(\"\")"
      ],
      "execution_count": null,
      "outputs": [
        {
          "output_type": "stream",
          "text": [
            "\n",
            "  0%|          | 0/36 [00:00<?, ?it/s]\u001b[A"
          ],
          "name": "stderr"
        },
        {
          "output_type": "stream",
          "text": [
            "Baseline (Interpolation smoothing, n=3, delta_1=0.1000, delta_2=0.1000, delta_3=0.8000, delta_4=0.0000)) Train Perplexity: 9.249\n"
          ],
          "name": "stdout"
        },
        {
          "output_type": "stream",
          "text": [
            "\n",
            "  3%|▎         | 1/36 [00:14<08:41, 14.90s/it]\u001b[A"
          ],
          "name": "stderr"
        },
        {
          "output_type": "stream",
          "text": [
            "Baseline (Interpolation smoothing, n=3, delta_1=0.1000, delta_2=0.1000, delta_3=0.8000, delta_4=0.0000)) Valid Perplexity: 230.696\n",
            "\n",
            "Baseline (Interpolation smoothing, n=3, delta_1=0.1000, delta_2=0.2000, delta_3=0.7000, delta_4=0.0000)) Train Perplexity: 10.196\n"
          ],
          "name": "stdout"
        },
        {
          "output_type": "stream",
          "text": [
            "\n",
            "  6%|▌         | 2/36 [00:32<08:55, 15.74s/it]\u001b[A"
          ],
          "name": "stderr"
        },
        {
          "output_type": "stream",
          "text": [
            "Baseline (Interpolation smoothing, n=3, delta_1=0.1000, delta_2=0.2000, delta_3=0.7000, delta_4=0.0000)) Valid Perplexity: 200.681\n",
            "\n",
            "Baseline (Interpolation smoothing, n=3, delta_1=0.1000, delta_2=0.3000, delta_3=0.6000, delta_4=0.0000)) Train Perplexity: 11.499\n"
          ],
          "name": "stdout"
        },
        {
          "output_type": "stream",
          "text": [
            "\n",
            "  8%|▊         | 3/36 [00:47<08:32, 15.52s/it]\u001b[A"
          ],
          "name": "stderr"
        },
        {
          "output_type": "stream",
          "text": [
            "Baseline (Interpolation smoothing, n=3, delta_1=0.1000, delta_2=0.3000, delta_3=0.6000, delta_4=0.0000)) Valid Perplexity: 189.698\n",
            "\n",
            "Baseline (Interpolation smoothing, n=3, delta_1=0.1000, delta_2=0.4000, delta_3=0.5000, delta_4=0.0000)) Train Perplexity: 13.346\n"
          ],
          "name": "stdout"
        },
        {
          "output_type": "stream",
          "text": [
            "\n",
            " 11%|█         | 4/36 [01:02<08:12, 15.38s/it]\u001b[A"
          ],
          "name": "stderr"
        },
        {
          "output_type": "stream",
          "text": [
            "Baseline (Interpolation smoothing, n=3, delta_1=0.1000, delta_2=0.4000, delta_3=0.5000, delta_4=0.0000)) Valid Perplexity: 190.059\n",
            "\n",
            "Baseline (Interpolation smoothing, n=3, delta_1=0.1000, delta_2=0.5000, delta_3=0.4000, delta_4=0.0000)) Train Perplexity: 16.114\n"
          ],
          "name": "stdout"
        },
        {
          "output_type": "stream",
          "text": [
            "\n",
            " 14%|█▍        | 5/36 [01:17<07:53, 15.26s/it]\u001b[A"
          ],
          "name": "stderr"
        },
        {
          "output_type": "stream",
          "text": [
            "Baseline (Interpolation smoothing, n=3, delta_1=0.1000, delta_2=0.5000, delta_3=0.4000, delta_4=0.0000)) Valid Perplexity: 200.649\n",
            "\n",
            "Baseline (Interpolation smoothing, n=3, delta_1=0.1000, delta_2=0.6000, delta_3=0.3000, delta_4=0.0000)) Train Perplexity: 20.656\n"
          ],
          "name": "stdout"
        },
        {
          "output_type": "stream",
          "text": [
            "\n",
            " 17%|█▋        | 6/36 [01:35<07:57, 15.90s/it]\u001b[A"
          ],
          "name": "stderr"
        },
        {
          "output_type": "stream",
          "text": [
            "Baseline (Interpolation smoothing, n=3, delta_1=0.1000, delta_2=0.6000, delta_3=0.3000, delta_4=0.0000)) Valid Perplexity: 224.528\n",
            "\n",
            "Baseline (Interpolation smoothing, n=3, delta_1=0.1000, delta_2=0.7000, delta_3=0.2000, delta_4=0.0000)) Train Perplexity: 29.392\n"
          ],
          "name": "stdout"
        },
        {
          "output_type": "stream",
          "text": [
            "\n",
            " 19%|█▉        | 7/36 [01:49<07:30, 15.55s/it]\u001b[A"
          ],
          "name": "stderr"
        },
        {
          "output_type": "stream",
          "text": [
            "Baseline (Interpolation smoothing, n=3, delta_1=0.1000, delta_2=0.7000, delta_3=0.2000, delta_4=0.0000)) Valid Perplexity: 272.197\n",
            "\n",
            "Baseline (Interpolation smoothing, n=3, delta_1=0.1000, delta_2=0.8000, delta_3=0.1000, delta_4=0.0000)) Train Perplexity: 53.069\n"
          ],
          "name": "stdout"
        },
        {
          "output_type": "stream",
          "text": [
            "\n",
            " 22%|██▏       | 8/36 [02:04<07:10, 15.39s/it]\u001b[A"
          ],
          "name": "stderr"
        },
        {
          "output_type": "stream",
          "text": [
            "Baseline (Interpolation smoothing, n=3, delta_1=0.1000, delta_2=0.8000, delta_3=0.1000, delta_4=0.0000)) Valid Perplexity: 381.367\n",
            "\n",
            "Baseline (Interpolation smoothing, n=3, delta_1=0.2000, delta_2=0.1000, delta_3=0.7000, delta_4=0.0000)) Train Perplexity: 9.224\n"
          ],
          "name": "stdout"
        },
        {
          "output_type": "stream",
          "text": [
            "\n",
            " 25%|██▌       | 9/36 [02:19<06:52, 15.27s/it]\u001b[A"
          ],
          "name": "stderr"
        },
        {
          "output_type": "stream",
          "text": [
            "Baseline (Interpolation smoothing, n=3, delta_1=0.2000, delta_2=0.1000, delta_3=0.7000, delta_4=0.0000)) Valid Perplexity: 121.949\n",
            "\n",
            "Baseline (Interpolation smoothing, n=3, delta_1=0.2000, delta_2=0.2000, delta_3=0.6000, delta_4=0.0000)) Train Perplexity: 10.167\n"
          ],
          "name": "stdout"
        },
        {
          "output_type": "stream",
          "text": [
            "\n",
            " 28%|██▊       | 10/36 [02:37<06:54, 15.96s/it]\u001b[A"
          ],
          "name": "stderr"
        },
        {
          "output_type": "stream",
          "text": [
            "Baseline (Interpolation smoothing, n=3, delta_1=0.2000, delta_2=0.2000, delta_3=0.6000, delta_4=0.0000)) Valid Perplexity: 112.651\n",
            "\n",
            "Baseline (Interpolation smoothing, n=3, delta_1=0.2000, delta_2=0.3000, delta_3=0.5000, delta_4=0.0000)) Train Perplexity: 11.533\n"
          ],
          "name": "stdout"
        },
        {
          "output_type": "stream",
          "text": [
            "\n",
            " 31%|███       | 11/36 [02:52<06:31, 15.66s/it]\u001b[A"
          ],
          "name": "stderr"
        },
        {
          "output_type": "stream",
          "text": [
            "Baseline (Interpolation smoothing, n=3, delta_1=0.2000, delta_2=0.3000, delta_3=0.5000, delta_4=0.0000)) Valid Perplexity: 110.239\n",
            "\n",
            "Baseline (Interpolation smoothing, n=3, delta_1=0.2000, delta_2=0.4000, delta_3=0.4000, delta_4=0.0000)) Train Perplexity: 13.583\n"
          ],
          "name": "stdout"
        },
        {
          "output_type": "stream",
          "text": [
            "\n",
            " 33%|███▎      | 12/36 [03:07<06:10, 15.42s/it]\u001b[A"
          ],
          "name": "stderr"
        },
        {
          "output_type": "stream",
          "text": [
            "Baseline (Interpolation smoothing, n=3, delta_1=0.2000, delta_2=0.4000, delta_3=0.4000, delta_4=0.0000)) Valid Perplexity: 113.301\n",
            "\n",
            "Baseline (Interpolation smoothing, n=3, delta_1=0.2000, delta_2=0.5000, delta_3=0.3000, delta_4=0.0000)) Train Perplexity: 16.892\n"
          ],
          "name": "stdout"
        },
        {
          "output_type": "stream",
          "text": [
            "\n",
            " 36%|███▌      | 13/36 [03:22<05:51, 15.28s/it]\u001b[A"
          ],
          "name": "stderr"
        },
        {
          "output_type": "stream",
          "text": [
            "Baseline (Interpolation smoothing, n=3, delta_1=0.2000, delta_2=0.5000, delta_3=0.3000, delta_4=0.0000)) Valid Perplexity: 122.504\n",
            "\n",
            "Baseline (Interpolation smoothing, n=3, delta_1=0.2000, delta_2=0.6000, delta_3=0.2000, delta_4=0.0000)) Train Perplexity: 23.006\n"
          ],
          "name": "stdout"
        },
        {
          "output_type": "stream",
          "text": [
            "\n",
            " 39%|███▉      | 14/36 [03:39<05:49, 15.91s/it]\u001b[A"
          ],
          "name": "stderr"
        },
        {
          "output_type": "stream",
          "text": [
            "Baseline (Interpolation smoothing, n=3, delta_1=0.2000, delta_2=0.6000, delta_3=0.2000, delta_4=0.0000)) Valid Perplexity: 141.139\n",
            "\n",
            "Baseline (Interpolation smoothing, n=3, delta_1=0.2000, delta_2=0.7000, delta_3=0.1000, delta_4=0.0000)) Train Perplexity: 38.105\n"
          ],
          "name": "stdout"
        },
        {
          "output_type": "stream",
          "text": [
            "\n",
            " 42%|████▏     | 15/36 [03:54<05:26, 15.56s/it]\u001b[A"
          ],
          "name": "stderr"
        },
        {
          "output_type": "stream",
          "text": [
            "Baseline (Interpolation smoothing, n=3, delta_1=0.2000, delta_2=0.7000, delta_3=0.1000, delta_4=0.0000)) Valid Perplexity: 179.871\n",
            "\n",
            "Baseline (Interpolation smoothing, n=3, delta_1=0.3000, delta_2=0.1000, delta_3=0.6000, delta_4=0.0000)) Train Perplexity: 9.088\n"
          ],
          "name": "stdout"
        },
        {
          "output_type": "stream",
          "text": [
            "\n",
            " 44%|████▍     | 16/36 [04:08<05:06, 15.32s/it]\u001b[A"
          ],
          "name": "stderr"
        },
        {
          "output_type": "stream",
          "text": [
            "Baseline (Interpolation smoothing, n=3, delta_1=0.3000, delta_2=0.1000, delta_3=0.6000, delta_4=0.0000)) Valid Perplexity: 78.315\n",
            "\n",
            "Baseline (Interpolation smoothing, n=3, delta_1=0.3000, delta_2=0.2000, delta_3=0.5000, delta_4=0.0000)) Train Perplexity: 10.107\n"
          ],
          "name": "stdout"
        },
        {
          "output_type": "stream",
          "text": [
            "\n",
            " 47%|████▋     | 17/36 [04:23<04:48, 15.17s/it]\u001b[A"
          ],
          "name": "stderr"
        },
        {
          "output_type": "stream",
          "text": [
            "Baseline (Interpolation smoothing, n=3, delta_1=0.3000, delta_2=0.2000, delta_3=0.5000, delta_4=0.0000)) Valid Perplexity: 75.126\n",
            "\n",
            "Baseline (Interpolation smoothing, n=3, delta_1=0.3000, delta_2=0.3000, delta_3=0.4000, delta_4=0.0000)) Train Perplexity: 11.647\n"
          ],
          "name": "stdout"
        },
        {
          "output_type": "stream",
          "text": [
            "\n",
            " 50%|█████     | 18/36 [04:41<04:46, 15.89s/it]\u001b[A"
          ],
          "name": "stderr"
        },
        {
          "output_type": "stream",
          "text": [
            "Baseline (Interpolation smoothing, n=3, delta_1=0.3000, delta_2=0.3000, delta_3=0.4000, delta_4=0.0000)) Valid Perplexity: 75.470\n",
            "\n",
            "Baseline (Interpolation smoothing, n=3, delta_1=0.3000, delta_2=0.4000, delta_3=0.3000, delta_4=0.0000)) Train Perplexity: 14.102\n"
          ],
          "name": "stdout"
        },
        {
          "output_type": "stream",
          "text": [
            "\n",
            " 53%|█████▎    | 19/36 [04:56<04:24, 15.55s/it]\u001b[A"
          ],
          "name": "stderr"
        },
        {
          "output_type": "stream",
          "text": [
            "Baseline (Interpolation smoothing, n=3, delta_1=0.3000, delta_2=0.4000, delta_3=0.3000, delta_4=0.0000)) Valid Perplexity: 79.293\n",
            "\n",
            "Baseline (Interpolation smoothing, n=3, delta_1=0.3000, delta_2=0.5000, delta_3=0.2000, delta_4=0.0000)) Train Perplexity: 18.491\n"
          ],
          "name": "stdout"
        },
        {
          "output_type": "stream",
          "text": [
            "\n",
            " 56%|█████▌    | 20/36 [05:10<04:05, 15.33s/it]\u001b[A"
          ],
          "name": "stderr"
        },
        {
          "output_type": "stream",
          "text": [
            "Baseline (Interpolation smoothing, n=3, delta_1=0.3000, delta_2=0.5000, delta_3=0.2000, delta_4=0.0000)) Valid Perplexity: 87.753\n",
            "\n",
            "Baseline (Interpolation smoothing, n=3, delta_1=0.3000, delta_2=0.6000, delta_3=0.1000, delta_4=0.0000)) Train Perplexity: 28.606\n"
          ],
          "name": "stdout"
        },
        {
          "output_type": "stream",
          "text": [
            "\n",
            " 58%|█████▊    | 21/36 [05:25<03:47, 15.14s/it]\u001b[A"
          ],
          "name": "stderr"
        },
        {
          "output_type": "stream",
          "text": [
            "Baseline (Interpolation smoothing, n=3, delta_1=0.3000, delta_2=0.6000, delta_3=0.1000, delta_4=0.0000)) Valid Perplexity: 104.689\n",
            "\n",
            "Baseline (Interpolation smoothing, n=3, delta_1=0.4000, delta_2=0.1000, delta_3=0.5000, delta_4=0.0000)) Train Perplexity: 8.946\n"
          ],
          "name": "stdout"
        },
        {
          "output_type": "stream",
          "text": [
            "\n",
            " 61%|██████    | 22/36 [05:40<03:29, 14.94s/it]\u001b[A"
          ],
          "name": "stderr"
        },
        {
          "output_type": "stream",
          "text": [
            "Baseline (Interpolation smoothing, n=3, delta_1=0.4000, delta_2=0.1000, delta_3=0.5000, delta_4=0.0000)) Valid Perplexity: 55.287\n",
            "\n",
            "Baseline (Interpolation smoothing, n=3, delta_1=0.4000, delta_2=0.2000, delta_3=0.4000, delta_4=0.0000)) Train Perplexity: 10.114\n"
          ],
          "name": "stdout"
        },
        {
          "output_type": "stream",
          "text": [
            "\n",
            " 64%|██████▍   | 23/36 [05:57<03:23, 15.62s/it]\u001b[A"
          ],
          "name": "stderr"
        },
        {
          "output_type": "stream",
          "text": [
            "Baseline (Interpolation smoothing, n=3, delta_1=0.4000, delta_2=0.2000, delta_3=0.4000, delta_4=0.0000)) Valid Perplexity: 54.499\n",
            "\n",
            "Baseline (Interpolation smoothing, n=3, delta_1=0.4000, delta_2=0.3000, delta_3=0.3000, delta_4=0.0000)) Train Perplexity: 11.966\n"
          ],
          "name": "stdout"
        },
        {
          "output_type": "stream",
          "text": [
            "\n",
            " 67%|██████▋   | 24/36 [06:11<03:03, 15.32s/it]\u001b[A"
          ],
          "name": "stderr"
        },
        {
          "output_type": "stream",
          "text": [
            "Baseline (Interpolation smoothing, n=3, delta_1=0.4000, delta_2=0.3000, delta_3=0.3000, delta_4=0.0000)) Valid Perplexity: 55.948\n",
            "\n",
            "Baseline (Interpolation smoothing, n=3, delta_1=0.4000, delta_2=0.4000, delta_3=0.2000, delta_4=0.0000)) Train Perplexity: 15.203\n"
          ],
          "name": "stdout"
        },
        {
          "output_type": "stream",
          "text": [
            "\n",
            " 69%|██████▉   | 25/36 [06:26<02:45, 15.08s/it]\u001b[A"
          ],
          "name": "stderr"
        },
        {
          "output_type": "stream",
          "text": [
            "Baseline (Interpolation smoothing, n=3, delta_1=0.4000, delta_2=0.4000, delta_3=0.2000, delta_4=0.0000)) Valid Perplexity: 60.031\n",
            "\n",
            "Baseline (Interpolation smoothing, n=3, delta_1=0.4000, delta_2=0.5000, delta_3=0.1000, delta_4=0.0000)) Train Perplexity: 22.307\n"
          ],
          "name": "stdout"
        },
        {
          "output_type": "stream",
          "text": [
            "\n",
            " 72%|███████▏  | 26/36 [06:41<02:29, 14.96s/it]\u001b[A"
          ],
          "name": "stderr"
        },
        {
          "output_type": "stream",
          "text": [
            "Baseline (Interpolation smoothing, n=3, delta_1=0.4000, delta_2=0.5000, delta_3=0.1000, delta_4=0.0000)) Valid Perplexity: 68.352\n",
            "\n",
            "Baseline (Interpolation smoothing, n=3, delta_1=0.5000, delta_2=0.1000, delta_3=0.4000, delta_4=0.0000)) Train Perplexity: 8.875\n"
          ],
          "name": "stdout"
        },
        {
          "output_type": "stream",
          "text": [
            "\n",
            " 75%|███████▌  | 27/36 [06:58<02:20, 15.58s/it]\u001b[A"
          ],
          "name": "stderr"
        },
        {
          "output_type": "stream",
          "text": [
            "Baseline (Interpolation smoothing, n=3, delta_1=0.5000, delta_2=0.1000, delta_3=0.4000, delta_4=0.0000)) Valid Perplexity: 41.400\n",
            "\n",
            "Baseline (Interpolation smoothing, n=3, delta_1=0.5000, delta_2=0.2000, delta_3=0.3000, delta_4=0.0000)) Train Perplexity: 10.295\n"
          ],
          "name": "stdout"
        },
        {
          "output_type": "stream",
          "text": [
            "\n",
            " 78%|███████▊  | 28/36 [07:12<02:02, 15.29s/it]\u001b[A"
          ],
          "name": "stderr"
        },
        {
          "output_type": "stream",
          "text": [
            "Baseline (Interpolation smoothing, n=3, delta_1=0.5000, delta_2=0.2000, delta_3=0.3000, delta_4=0.0000)) Valid Perplexity: 41.709\n",
            "\n",
            "Baseline (Interpolation smoothing, n=3, delta_1=0.5000, delta_2=0.3000, delta_3=0.2000, delta_4=0.0000)) Train Perplexity: 12.740\n"
          ],
          "name": "stdout"
        },
        {
          "output_type": "stream",
          "text": [
            "\n",
            " 81%|████████  | 29/36 [07:27<01:46, 15.18s/it]\u001b[A"
          ],
          "name": "stderr"
        },
        {
          "output_type": "stream",
          "text": [
            "Baseline (Interpolation smoothing, n=3, delta_1=0.5000, delta_2=0.3000, delta_3=0.2000, delta_4=0.0000)) Valid Perplexity: 43.686\n",
            "\n",
            "Baseline (Interpolation smoothing, n=3, delta_1=0.5000, delta_2=0.4000, delta_3=0.1000, delta_4=0.0000)) Train Perplexity: 17.929\n"
          ],
          "name": "stdout"
        },
        {
          "output_type": "stream",
          "text": [
            "\n",
            " 83%|████████▎ | 30/36 [07:42<01:29, 15.00s/it]\u001b[A"
          ],
          "name": "stderr"
        },
        {
          "output_type": "stream",
          "text": [
            "Baseline (Interpolation smoothing, n=3, delta_1=0.5000, delta_2=0.4000, delta_3=0.1000, delta_4=0.0000)) Valid Perplexity: 48.066\n",
            "\n",
            "Baseline (Interpolation smoothing, n=3, delta_1=0.6000, delta_2=0.1000, delta_3=0.3000, delta_4=0.0000)) Train Perplexity: 8.962\n"
          ],
          "name": "stdout"
        },
        {
          "output_type": "stream",
          "text": [
            "\n",
            " 86%|████████▌ | 31/36 [08:00<01:19, 15.82s/it]\u001b[A"
          ],
          "name": "stderr"
        },
        {
          "output_type": "stream",
          "text": [
            "Baseline (Interpolation smoothing, n=3, delta_1=0.6000, delta_2=0.1000, delta_3=0.3000, delta_4=0.0000)) Valid Perplexity: 32.333\n",
            "\n",
            "Baseline (Interpolation smoothing, n=3, delta_1=0.6000, delta_2=0.2000, delta_3=0.2000, delta_4=0.0000)) Train Perplexity: 10.848\n"
          ],
          "name": "stdout"
        },
        {
          "output_type": "stream",
          "text": [
            "\n",
            " 89%|████████▉ | 32/36 [08:14<01:01, 15.45s/it]\u001b[A"
          ],
          "name": "stderr"
        },
        {
          "output_type": "stream",
          "text": [
            "Baseline (Interpolation smoothing, n=3, delta_1=0.6000, delta_2=0.2000, delta_3=0.2000, delta_4=0.0000)) Valid Perplexity: 33.221\n",
            "\n",
            "Baseline (Interpolation smoothing, n=3, delta_1=0.6000, delta_2=0.3000, delta_3=0.1000, delta_4=0.0000)) Train Perplexity: 14.760\n"
          ],
          "name": "stdout"
        },
        {
          "output_type": "stream",
          "text": [
            "\n",
            " 92%|█████████▏| 33/36 [08:29<00:45, 15.24s/it]\u001b[A"
          ],
          "name": "stderr"
        },
        {
          "output_type": "stream",
          "text": [
            "Baseline (Interpolation smoothing, n=3, delta_1=0.6000, delta_2=0.3000, delta_3=0.1000, delta_4=0.0000)) Valid Perplexity: 35.611\n",
            "\n",
            "Baseline (Interpolation smoothing, n=3, delta_1=0.7000, delta_2=0.1000, delta_3=0.2000, delta_4=0.0000)) Train Perplexity: 9.363\n"
          ],
          "name": "stdout"
        },
        {
          "output_type": "stream",
          "text": [
            "\n",
            " 94%|█████████▍| 34/36 [08:44<00:30, 15.09s/it]\u001b[A"
          ],
          "name": "stderr"
        },
        {
          "output_type": "stream",
          "text": [
            "Baseline (Interpolation smoothing, n=3, delta_1=0.7000, delta_2=0.1000, delta_3=0.2000, delta_4=0.0000)) Valid Perplexity: 26.114\n",
            "\n",
            "Baseline (Interpolation smoothing, n=3, delta_1=0.7000, delta_2=0.2000, delta_3=0.1000, delta_4=0.0000)) Train Perplexity: 12.387\n"
          ],
          "name": "stdout"
        },
        {
          "output_type": "stream",
          "text": [
            "\n",
            " 97%|█████████▋| 35/36 [09:01<00:15, 15.79s/it]\u001b[A"
          ],
          "name": "stderr"
        },
        {
          "output_type": "stream",
          "text": [
            "Baseline (Interpolation smoothing, n=3, delta_1=0.7000, delta_2=0.2000, delta_3=0.1000, delta_4=0.0000)) Valid Perplexity: 27.426\n",
            "\n",
            "Baseline (Interpolation smoothing, n=3, delta_1=0.8000, delta_2=0.1000, delta_3=0.1000, delta_4=0.0000)) Train Perplexity: 10.562\n"
          ],
          "name": "stdout"
        },
        {
          "output_type": "stream",
          "text": [
            "\n",
            "100%|██████████| 36/36 [09:15<00:00, 15.44s/it]"
          ],
          "name": "stderr"
        },
        {
          "output_type": "stream",
          "text": [
            "Baseline (Interpolation smoothing, n=3, delta_1=0.8000, delta_2=0.1000, delta_3=0.1000, delta_4=0.0000)) Valid Perplexity: 21.764\n",
            "\n"
          ],
          "name": "stdout"
        },
        {
          "output_type": "stream",
          "text": [
            "\n"
          ],
          "name": "stderr"
        }
      ]
    },
    {
      "cell_type": "code",
      "metadata": {
        "id": "-z_yRQRlasGZ",
        "outputId": "b3af79f0-7ce0-425c-e13b-d2f3e644bc6e",
        "colab": {
          "base_uri": "https://localhost:8080/"
        }
      },
      "source": [
        "for n in [4]:\n",
        "    for i in tqdm(d_4):\n",
        "        lm = NGramInterpolation(n=n, lmd_0=i[0], lmd_1=i[1], lmd_2=i[2], lmd_3=i[3], vsize=len(vocab)+1)  # +1 is for <eos>\n",
        "        lm.estimate(datasets['train'])\n",
        "        print(\"Baseline (Interpolation smoothing, n=%d, delta_1=%.4f, delta_2=%.4f, delta_3=%.4f, delta_4=%.4f)) Train Perplexity: %.3f\" % (n, i[0], i[1], i[2], i[3], perplexity(lm, datasets['train'])))\n",
        "        print(\"Baseline (Interpolation smoothing, n=%d, delta_1=%.4f, delta_2=%.4f, delta_3=%.4f, delta_4=%.4f)) Valid Perplexity: %.3f\" % (n, i[0], i[1], i[2], i[3], perplexity(lm, datasets['valid'])))\n",
        "        print(\"\")"
      ],
      "execution_count": null,
      "outputs": [
        {
          "output_type": "stream",
          "text": [
            "\n",
            "\n",
            "\n",
            "\n",
            "  0%|          | 0/84 [00:00<?, ?it/s]\u001b[A\u001b[A\u001b[A\u001b[A"
          ],
          "name": "stderr"
        },
        {
          "output_type": "stream",
          "text": [
            "Baseline (Interpolation smoothing, n=4, delta_1=0.1000, delta_2=0.1000, delta_3=0.1000, delta_4=0.7000)) Train Perplexity: 3.262\n"
          ],
          "name": "stdout"
        },
        {
          "output_type": "stream",
          "text": [
            "\n",
            "\n",
            "\n",
            "\n",
            "  1%|          | 1/84 [00:24<34:26, 24.90s/it]\u001b[A\u001b[A\u001b[A\u001b[A"
          ],
          "name": "stderr"
        },
        {
          "output_type": "stream",
          "text": [
            "Baseline (Interpolation smoothing, n=4, delta_1=0.1000, delta_2=0.1000, delta_3=0.1000, delta_4=0.7000)) Valid Perplexity: 309.702\n",
            "\n",
            "Baseline (Interpolation smoothing, n=4, delta_1=0.1000, delta_2=0.1000, delta_3=0.2000, delta_4=0.6000)) Train Perplexity: 3.734\n"
          ],
          "name": "stdout"
        },
        {
          "output_type": "stream",
          "text": [
            "\n",
            "\n",
            "\n",
            "\n",
            "  2%|▏         | 2/84 [00:45<32:22, 23.69s/it]\u001b[A\u001b[A\u001b[A\u001b[A"
          ],
          "name": "stderr"
        },
        {
          "output_type": "stream",
          "text": [
            "Baseline (Interpolation smoothing, n=4, delta_1=0.1000, delta_2=0.1000, delta_3=0.2000, delta_4=0.6000)) Valid Perplexity: 277.921\n",
            "\n",
            "Baseline (Interpolation smoothing, n=4, delta_1=0.1000, delta_2=0.1000, delta_3=0.3000, delta_4=0.5000)) Train Perplexity: 4.392\n"
          ],
          "name": "stdout"
        },
        {
          "output_type": "stream",
          "text": [
            "\n",
            "\n",
            "\n",
            "\n",
            "  4%|▎         | 3/84 [01:09<32:06, 23.78s/it]\u001b[A\u001b[A\u001b[A\u001b[A"
          ],
          "name": "stderr"
        },
        {
          "output_type": "stream",
          "text": [
            "Baseline (Interpolation smoothing, n=4, delta_1=0.1000, delta_2=0.1000, delta_3=0.3000, delta_4=0.5000)) Valid Perplexity: 265.451\n",
            "\n",
            "Baseline (Interpolation smoothing, n=4, delta_1=0.1000, delta_2=0.1000, delta_3=0.4000, delta_4=0.4000)) Train Perplexity: 5.369\n"
          ],
          "name": "stdout"
        },
        {
          "output_type": "stream",
          "text": [
            "\n",
            "\n",
            "\n",
            "\n",
            "  5%|▍         | 4/84 [01:30<30:28, 22.86s/it]\u001b[A\u001b[A\u001b[A\u001b[A"
          ],
          "name": "stderr"
        },
        {
          "output_type": "stream",
          "text": [
            "Baseline (Interpolation smoothing, n=4, delta_1=0.1000, delta_2=0.1000, delta_3=0.4000, delta_4=0.4000)) Valid Perplexity: 266.726\n",
            "\n",
            "Baseline (Interpolation smoothing, n=4, delta_1=0.1000, delta_2=0.1000, delta_3=0.5000, delta_4=0.3000)) Train Perplexity: 6.965\n"
          ],
          "name": "stdout"
        },
        {
          "output_type": "stream",
          "text": [
            "\n",
            "\n",
            "\n",
            "\n",
            "  6%|▌         | 5/84 [01:54<30:33, 23.21s/it]\u001b[A\u001b[A\u001b[A\u001b[A"
          ],
          "name": "stderr"
        },
        {
          "output_type": "stream",
          "text": [
            "Baseline (Interpolation smoothing, n=4, delta_1=0.1000, delta_2=0.1000, delta_3=0.5000, delta_4=0.3000)) Valid Perplexity: 281.693\n",
            "\n",
            "Baseline (Interpolation smoothing, n=4, delta_1=0.1000, delta_2=0.1000, delta_3=0.6000, delta_4=0.2000)) Train Perplexity: 10.033\n"
          ],
          "name": "stdout"
        },
        {
          "output_type": "stream",
          "text": [
            "\n",
            "\n",
            "\n",
            "\n",
            "  7%|▋         | 6/84 [02:15<29:13, 22.48s/it]\u001b[A\u001b[A\u001b[A\u001b[A"
          ],
          "name": "stderr"
        },
        {
          "output_type": "stream",
          "text": [
            "Baseline (Interpolation smoothing, n=4, delta_1=0.1000, delta_2=0.1000, delta_3=0.6000, delta_4=0.2000)) Valid Perplexity: 315.623\n",
            "\n",
            "Baseline (Interpolation smoothing, n=4, delta_1=0.1000, delta_2=0.1000, delta_3=0.7000, delta_4=0.1000)) Train Perplexity: 18.416\n"
          ],
          "name": "stdout"
        },
        {
          "output_type": "stream",
          "text": [
            "\n",
            "\n",
            "\n",
            "\n",
            "  8%|▊         | 7/84 [02:39<29:25, 22.92s/it]\u001b[A\u001b[A\u001b[A\u001b[A"
          ],
          "name": "stderr"
        },
        {
          "output_type": "stream",
          "text": [
            "Baseline (Interpolation smoothing, n=4, delta_1=0.1000, delta_2=0.1000, delta_3=0.7000, delta_4=0.1000)) Valid Perplexity: 386.538\n",
            "\n",
            "Baseline (Interpolation smoothing, n=4, delta_1=0.1000, delta_2=0.2000, delta_3=0.1000, delta_4=0.6000)) Train Perplexity: 3.734\n"
          ],
          "name": "stdout"
        },
        {
          "output_type": "stream",
          "text": [
            "\n",
            "\n",
            "\n",
            "\n",
            " 10%|▉         | 8/84 [03:03<29:26, 23.24s/it]\u001b[A\u001b[A\u001b[A\u001b[A"
          ],
          "name": "stderr"
        },
        {
          "output_type": "stream",
          "text": [
            "Baseline (Interpolation smoothing, n=4, delta_1=0.1000, delta_2=0.2000, delta_3=0.1000, delta_4=0.6000)) Valid Perplexity: 277.921\n",
            "\n",
            "Baseline (Interpolation smoothing, n=4, delta_1=0.1000, delta_2=0.2000, delta_3=0.2000, delta_4=0.5000)) Train Perplexity: 4.387\n"
          ],
          "name": "stdout"
        },
        {
          "output_type": "stream",
          "text": [
            "\n",
            "\n",
            "\n",
            "\n",
            " 11%|█         | 9/84 [03:24<28:12, 22.57s/it]\u001b[A\u001b[A\u001b[A\u001b[A"
          ],
          "name": "stderr"
        },
        {
          "output_type": "stream",
          "text": [
            "Baseline (Interpolation smoothing, n=4, delta_1=0.1000, delta_2=0.2000, delta_3=0.2000, delta_4=0.5000)) Valid Perplexity: 262.383\n",
            "\n",
            "Baseline (Interpolation smoothing, n=4, delta_1=0.1000, delta_2=0.2000, delta_3=0.3000, delta_4=0.4000)) Train Perplexity: 5.351\n"
          ],
          "name": "stdout"
        },
        {
          "output_type": "stream",
          "text": [
            "\n",
            "\n",
            "\n",
            "\n",
            " 12%|█▏        | 10/84 [03:48<28:19, 22.97s/it]\u001b[A\u001b[A\u001b[A\u001b[A"
          ],
          "name": "stderr"
        },
        {
          "output_type": "stream",
          "text": [
            "Baseline (Interpolation smoothing, n=4, delta_1=0.1000, delta_2=0.2000, delta_3=0.3000, delta_4=0.4000)) Valid Perplexity: 259.615\n",
            "\n",
            "Baseline (Interpolation smoothing, n=4, delta_1=0.1000, delta_2=0.2000, delta_3=0.4000, delta_4=0.3000)) Train Perplexity: 6.916\n"
          ],
          "name": "stdout"
        },
        {
          "output_type": "stream",
          "text": [
            "\n",
            "\n",
            "\n",
            "\n",
            " 13%|█▎        | 11/84 [04:08<27:04, 22.25s/it]\u001b[A\u001b[A\u001b[A\u001b[A"
          ],
          "name": "stderr"
        },
        {
          "output_type": "stream",
          "text": [
            "Baseline (Interpolation smoothing, n=4, delta_1=0.1000, delta_2=0.2000, delta_3=0.4000, delta_4=0.3000)) Valid Perplexity: 268.446\n",
            "\n",
            "Baseline (Interpolation smoothing, n=4, delta_1=0.1000, delta_2=0.2000, delta_3=0.5000, delta_4=0.2000)) Train Perplexity: 9.892\n"
          ],
          "name": "stdout"
        },
        {
          "output_type": "stream",
          "text": [
            "\n",
            "\n",
            "\n",
            "\n",
            " 14%|█▍        | 12/84 [04:32<27:16, 22.73s/it]\u001b[A\u001b[A\u001b[A\u001b[A"
          ],
          "name": "stderr"
        },
        {
          "output_type": "stream",
          "text": [
            "Baseline (Interpolation smoothing, n=4, delta_1=0.1000, delta_2=0.2000, delta_3=0.5000, delta_4=0.2000)) Valid Perplexity: 291.674\n",
            "\n",
            "Baseline (Interpolation smoothing, n=4, delta_1=0.1000, delta_2=0.2000, delta_3=0.6000, delta_4=0.1000)) Train Perplexity: 17.851\n"
          ],
          "name": "stdout"
        },
        {
          "output_type": "stream",
          "text": [
            "\n",
            "\n",
            "\n",
            "\n",
            " 15%|█▌        | 13/84 [04:56<27:18, 23.08s/it]\u001b[A\u001b[A\u001b[A\u001b[A"
          ],
          "name": "stderr"
        },
        {
          "output_type": "stream",
          "text": [
            "Baseline (Interpolation smoothing, n=4, delta_1=0.1000, delta_2=0.2000, delta_3=0.6000, delta_4=0.1000)) Valid Perplexity: 340.020\n",
            "\n",
            "Baseline (Interpolation smoothing, n=4, delta_1=0.1000, delta_2=0.3000, delta_3=0.1000, delta_4=0.5000)) Train Perplexity: 4.392\n"
          ],
          "name": "stdout"
        },
        {
          "output_type": "stream",
          "text": [
            "\n",
            "\n",
            "\n",
            "\n",
            " 17%|█▋        | 14/84 [05:17<26:08, 22.41s/it]\u001b[A\u001b[A\u001b[A\u001b[A"
          ],
          "name": "stderr"
        },
        {
          "output_type": "stream",
          "text": [
            "Baseline (Interpolation smoothing, n=4, delta_1=0.1000, delta_2=0.3000, delta_3=0.1000, delta_4=0.5000)) Valid Perplexity: 265.451\n",
            "\n",
            "Baseline (Interpolation smoothing, n=4, delta_1=0.1000, delta_2=0.3000, delta_3=0.2000, delta_4=0.4000)) Train Perplexity: 5.351\n"
          ],
          "name": "stdout"
        },
        {
          "output_type": "stream",
          "text": [
            "\n",
            "\n",
            "\n",
            "\n",
            " 18%|█▊        | 15/84 [05:41<26:17, 22.86s/it]\u001b[A\u001b[A\u001b[A\u001b[A"
          ],
          "name": "stderr"
        },
        {
          "output_type": "stream",
          "text": [
            "Baseline (Interpolation smoothing, n=4, delta_1=0.1000, delta_2=0.3000, delta_3=0.2000, delta_4=0.4000)) Valid Perplexity: 259.615\n",
            "\n",
            "Baseline (Interpolation smoothing, n=4, delta_1=0.1000, delta_2=0.3000, delta_3=0.3000, delta_4=0.3000)) Train Perplexity: 6.900\n"
          ],
          "name": "stdout"
        },
        {
          "output_type": "stream",
          "text": [
            "\n",
            "\n",
            "\n",
            "\n",
            " 19%|█▉        | 16/84 [06:05<26:23, 23.29s/it]\u001b[A\u001b[A\u001b[A\u001b[A"
          ],
          "name": "stderr"
        },
        {
          "output_type": "stream",
          "text": [
            "Baseline (Interpolation smoothing, n=4, delta_1=0.1000, delta_2=0.3000, delta_3=0.3000, delta_4=0.3000)) Valid Perplexity: 264.327\n",
            "\n",
            "Baseline (Interpolation smoothing, n=4, delta_1=0.1000, delta_2=0.3000, delta_3=0.4000, delta_4=0.2000)) Train Perplexity: 9.824\n"
          ],
          "name": "stdout"
        },
        {
          "output_type": "stream",
          "text": [
            "\n",
            "\n",
            "\n",
            "\n",
            " 20%|██        | 17/84 [06:26<25:10, 22.55s/it]\u001b[A\u001b[A\u001b[A\u001b[A"
          ],
          "name": "stderr"
        },
        {
          "output_type": "stream",
          "text": [
            "Baseline (Interpolation smoothing, n=4, delta_1=0.1000, delta_2=0.3000, delta_3=0.4000, delta_4=0.2000)) Valid Perplexity: 281.117\n",
            "\n",
            "Baseline (Interpolation smoothing, n=4, delta_1=0.1000, delta_2=0.3000, delta_3=0.5000, delta_4=0.1000)) Train Perplexity: 17.539\n"
          ],
          "name": "stdout"
        },
        {
          "output_type": "stream",
          "text": [
            "\n",
            "\n",
            "\n",
            "\n",
            " 21%|██▏       | 18/84 [06:50<25:23, 23.08s/it]\u001b[A\u001b[A\u001b[A\u001b[A"
          ],
          "name": "stderr"
        },
        {
          "output_type": "stream",
          "text": [
            "Baseline (Interpolation smoothing, n=4, delta_1=0.1000, delta_2=0.3000, delta_3=0.5000, delta_4=0.1000)) Valid Perplexity: 317.450\n",
            "\n",
            "Baseline (Interpolation smoothing, n=4, delta_1=0.1000, delta_2=0.4000, delta_3=0.1000, delta_4=0.4000)) Train Perplexity: 5.369\n"
          ],
          "name": "stdout"
        },
        {
          "output_type": "stream",
          "text": [
            "\n",
            "\n",
            "\n",
            "\n",
            " 23%|██▎       | 19/84 [07:11<24:10, 22.32s/it]\u001b[A\u001b[A\u001b[A\u001b[A"
          ],
          "name": "stderr"
        },
        {
          "output_type": "stream",
          "text": [
            "Baseline (Interpolation smoothing, n=4, delta_1=0.1000, delta_2=0.4000, delta_3=0.1000, delta_4=0.4000)) Valid Perplexity: 266.726\n",
            "\n",
            "Baseline (Interpolation smoothing, n=4, delta_1=0.1000, delta_2=0.4000, delta_3=0.2000, delta_4=0.3000)) Train Perplexity: 6.916\n"
          ],
          "name": "stdout"
        },
        {
          "output_type": "stream",
          "text": [
            "\n",
            "\n",
            "\n",
            "\n",
            " 24%|██▍       | 20/84 [07:35<24:26, 22.91s/it]\u001b[A\u001b[A\u001b[A\u001b[A"
          ],
          "name": "stderr"
        },
        {
          "output_type": "stream",
          "text": [
            "Baseline (Interpolation smoothing, n=4, delta_1=0.1000, delta_2=0.4000, delta_3=0.2000, delta_4=0.3000)) Valid Perplexity: 268.446\n",
            "\n",
            "Baseline (Interpolation smoothing, n=4, delta_1=0.1000, delta_2=0.4000, delta_3=0.3000, delta_4=0.2000)) Train Perplexity: 9.824\n"
          ],
          "name": "stdout"
        },
        {
          "output_type": "stream",
          "text": [
            "\n",
            "\n",
            "\n",
            "\n",
            " 25%|██▌       | 21/84 [07:56<23:25, 22.31s/it]\u001b[A\u001b[A\u001b[A\u001b[A"
          ],
          "name": "stderr"
        },
        {
          "output_type": "stream",
          "text": [
            "Baseline (Interpolation smoothing, n=4, delta_1=0.1000, delta_2=0.4000, delta_3=0.3000, delta_4=0.2000)) Valid Perplexity: 281.117\n",
            "\n",
            "Baseline (Interpolation smoothing, n=4, delta_1=0.1000, delta_2=0.4000, delta_3=0.4000, delta_4=0.1000)) Train Perplexity: 17.439\n"
          ],
          "name": "stdout"
        },
        {
          "output_type": "stream",
          "text": [
            "\n",
            "\n",
            "\n",
            "\n",
            " 26%|██▌       | 22/84 [08:20<23:38, 22.88s/it]\u001b[A\u001b[A\u001b[A\u001b[A"
          ],
          "name": "stderr"
        },
        {
          "output_type": "stream",
          "text": [
            "Baseline (Interpolation smoothing, n=4, delta_1=0.1000, delta_2=0.4000, delta_3=0.4000, delta_4=0.1000)) Valid Perplexity: 310.623\n",
            "\n",
            "Baseline (Interpolation smoothing, n=4, delta_1=0.1000, delta_2=0.5000, delta_3=0.1000, delta_4=0.3000)) Train Perplexity: 6.965\n"
          ],
          "name": "stdout"
        },
        {
          "output_type": "stream",
          "text": [
            "\n",
            "\n",
            "\n",
            "\n",
            " 27%|██▋       | 23/84 [08:44<23:38, 23.25s/it]\u001b[A\u001b[A\u001b[A\u001b[A"
          ],
          "name": "stderr"
        },
        {
          "output_type": "stream",
          "text": [
            "Baseline (Interpolation smoothing, n=4, delta_1=0.1000, delta_2=0.5000, delta_3=0.1000, delta_4=0.3000)) Valid Perplexity: 281.693\n",
            "\n",
            "Baseline (Interpolation smoothing, n=4, delta_1=0.1000, delta_2=0.5000, delta_3=0.2000, delta_4=0.2000)) Train Perplexity: 9.892\n"
          ],
          "name": "stdout"
        },
        {
          "output_type": "stream",
          "text": [
            "\n",
            "\n",
            "\n",
            "\n",
            " 29%|██▊       | 24/84 [09:05<22:25, 22.43s/it]\u001b[A\u001b[A\u001b[A\u001b[A"
          ],
          "name": "stderr"
        },
        {
          "output_type": "stream",
          "text": [
            "Baseline (Interpolation smoothing, n=4, delta_1=0.1000, delta_2=0.5000, delta_3=0.2000, delta_4=0.2000)) Valid Perplexity: 291.674\n",
            "\n",
            "Baseline (Interpolation smoothing, n=4, delta_1=0.1000, delta_2=0.5000, delta_3=0.3000, delta_4=0.1000)) Train Perplexity: 17.539\n"
          ],
          "name": "stdout"
        },
        {
          "output_type": "stream",
          "text": [
            "\n",
            "\n",
            "\n",
            "\n",
            " 30%|██▉       | 25/84 [09:29<22:31, 22.91s/it]\u001b[A\u001b[A\u001b[A\u001b[A"
          ],
          "name": "stderr"
        },
        {
          "output_type": "stream",
          "text": [
            "Baseline (Interpolation smoothing, n=4, delta_1=0.1000, delta_2=0.5000, delta_3=0.3000, delta_4=0.1000)) Valid Perplexity: 317.450\n",
            "\n",
            "Baseline (Interpolation smoothing, n=4, delta_1=0.1000, delta_2=0.6000, delta_3=0.1000, delta_4=0.2000)) Train Perplexity: 10.033\n"
          ],
          "name": "stdout"
        },
        {
          "output_type": "stream",
          "text": [
            "\n",
            "\n",
            "\n",
            "\n",
            " 31%|███       | 26/84 [09:49<21:29, 22.24s/it]\u001b[A\u001b[A\u001b[A\u001b[A"
          ],
          "name": "stderr"
        },
        {
          "output_type": "stream",
          "text": [
            "Baseline (Interpolation smoothing, n=4, delta_1=0.1000, delta_2=0.6000, delta_3=0.1000, delta_4=0.2000)) Valid Perplexity: 315.623\n",
            "\n",
            "Baseline (Interpolation smoothing, n=4, delta_1=0.1000, delta_2=0.6000, delta_3=0.2000, delta_4=0.1000)) Train Perplexity: 17.851\n"
          ],
          "name": "stdout"
        },
        {
          "output_type": "stream",
          "text": [
            "\n",
            "\n",
            "\n",
            "\n",
            " 32%|███▏      | 27/84 [10:13<21:30, 22.65s/it]\u001b[A\u001b[A\u001b[A\u001b[A"
          ],
          "name": "stderr"
        },
        {
          "output_type": "stream",
          "text": [
            "Baseline (Interpolation smoothing, n=4, delta_1=0.1000, delta_2=0.6000, delta_3=0.2000, delta_4=0.1000)) Valid Perplexity: 340.020\n",
            "\n",
            "Baseline (Interpolation smoothing, n=4, delta_1=0.1000, delta_2=0.7000, delta_3=0.1000, delta_4=0.1000)) Train Perplexity: 18.416\n"
          ],
          "name": "stdout"
        },
        {
          "output_type": "stream",
          "text": [
            "\n",
            "\n",
            "\n",
            "\n",
            " 33%|███▎      | 28/84 [10:37<21:34, 23.11s/it]\u001b[A\u001b[A\u001b[A\u001b[A"
          ],
          "name": "stderr"
        },
        {
          "output_type": "stream",
          "text": [
            "Baseline (Interpolation smoothing, n=4, delta_1=0.1000, delta_2=0.7000, delta_3=0.1000, delta_4=0.1000)) Valid Perplexity: 386.538\n",
            "\n",
            "Baseline (Interpolation smoothing, n=4, delta_1=0.2000, delta_2=0.1000, delta_3=0.1000, delta_4=0.6000)) Train Perplexity: 3.486\n"
          ],
          "name": "stdout"
        },
        {
          "output_type": "stream",
          "text": [
            "\n",
            "\n",
            "\n",
            "\n",
            " 35%|███▍      | 29/84 [10:58<20:28, 22.34s/it]\u001b[A\u001b[A\u001b[A\u001b[A"
          ],
          "name": "stderr"
        },
        {
          "output_type": "stream",
          "text": [
            "Baseline (Interpolation smoothing, n=4, delta_1=0.2000, delta_2=0.1000, delta_3=0.1000, delta_4=0.6000)) Valid Perplexity: 150.024\n",
            "\n",
            "Baseline (Interpolation smoothing, n=4, delta_1=0.2000, delta_2=0.1000, delta_3=0.2000, delta_4=0.5000)) Train Perplexity: 4.036\n"
          ],
          "name": "stdout"
        },
        {
          "output_type": "stream",
          "text": [
            "\n",
            "\n",
            "\n",
            "\n",
            " 36%|███▌      | 30/84 [11:22<20:34, 22.87s/it]\u001b[A\u001b[A\u001b[A\u001b[A"
          ],
          "name": "stderr"
        },
        {
          "output_type": "stream",
          "text": [
            "Baseline (Interpolation smoothing, n=4, delta_1=0.2000, delta_2=0.1000, delta_3=0.2000, delta_4=0.5000)) Valid Perplexity: 140.635\n",
            "\n",
            "Baseline (Interpolation smoothing, n=4, delta_1=0.2000, delta_2=0.1000, delta_3=0.3000, delta_4=0.4000)) Train Perplexity: 4.848\n"
          ],
          "name": "stdout"
        },
        {
          "output_type": "stream",
          "text": [
            "\n",
            "\n",
            "\n",
            "\n",
            " 37%|███▋      | 31/84 [11:42<19:34, 22.17s/it]\u001b[A\u001b[A\u001b[A\u001b[A"
          ],
          "name": "stderr"
        },
        {
          "output_type": "stream",
          "text": [
            "Baseline (Interpolation smoothing, n=4, delta_1=0.2000, delta_2=0.1000, delta_3=0.3000, delta_4=0.4000)) Valid Perplexity: 138.398\n",
            "\n",
            "Baseline (Interpolation smoothing, n=4, delta_1=0.2000, delta_2=0.1000, delta_3=0.4000, delta_4=0.3000)) Train Perplexity: 6.150\n"
          ],
          "name": "stdout"
        },
        {
          "output_type": "stream",
          "text": [
            "\n",
            "\n",
            "\n",
            "\n",
            " 38%|███▊      | 32/84 [12:06<19:41, 22.73s/it]\u001b[A\u001b[A\u001b[A\u001b[A"
          ],
          "name": "stderr"
        },
        {
          "output_type": "stream",
          "text": [
            "Baseline (Interpolation smoothing, n=4, delta_1=0.2000, delta_2=0.1000, delta_3=0.4000, delta_4=0.3000)) Valid Perplexity: 142.459\n",
            "\n",
            "Baseline (Interpolation smoothing, n=4, delta_1=0.2000, delta_2=0.1000, delta_3=0.5000, delta_4=0.2000)) Train Perplexity: 8.573\n"
          ],
          "name": "stdout"
        },
        {
          "output_type": "stream",
          "text": [
            "\n",
            "\n",
            "\n",
            "\n",
            " 39%|███▉      | 33/84 [12:30<19:37, 23.08s/it]\u001b[A\u001b[A\u001b[A\u001b[A"
          ],
          "name": "stderr"
        },
        {
          "output_type": "stream",
          "text": [
            "Baseline (Interpolation smoothing, n=4, delta_1=0.2000, delta_2=0.1000, delta_3=0.5000, delta_4=0.2000)) Valid Perplexity: 154.056\n",
            "\n",
            "Baseline (Interpolation smoothing, n=4, delta_1=0.2000, delta_2=0.1000, delta_3=0.6000, delta_4=0.1000)) Train Perplexity: 14.752\n"
          ],
          "name": "stdout"
        },
        {
          "output_type": "stream",
          "text": [
            "\n",
            "\n",
            "\n",
            "\n",
            " 40%|████      | 34/84 [12:51<18:39, 22.39s/it]\u001b[A\u001b[A\u001b[A\u001b[A"
          ],
          "name": "stderr"
        },
        {
          "output_type": "stream",
          "text": [
            "Baseline (Interpolation smoothing, n=4, delta_1=0.2000, delta_2=0.1000, delta_3=0.6000, delta_4=0.1000)) Valid Perplexity: 178.114\n",
            "\n",
            "Baseline (Interpolation smoothing, n=4, delta_1=0.2000, delta_2=0.2000, delta_3=0.1000, delta_4=0.5000)) Train Perplexity: 4.036\n"
          ],
          "name": "stdout"
        },
        {
          "output_type": "stream",
          "text": [
            "\n",
            "\n",
            "\n",
            "\n",
            " 42%|████▏     | 35/84 [13:16<18:48, 23.02s/it]\u001b[A\u001b[A\u001b[A\u001b[A"
          ],
          "name": "stderr"
        },
        {
          "output_type": "stream",
          "text": [
            "Baseline (Interpolation smoothing, n=4, delta_1=0.2000, delta_2=0.2000, delta_3=0.1000, delta_4=0.5000)) Valid Perplexity: 140.635\n",
            "\n",
            "Baseline (Interpolation smoothing, n=4, delta_1=0.2000, delta_2=0.2000, delta_3=0.2000, delta_4=0.4000)) Train Perplexity: 4.836\n"
          ],
          "name": "stdout"
        },
        {
          "output_type": "stream",
          "text": [
            "\n",
            "\n",
            "\n",
            "\n",
            " 43%|████▎     | 36/84 [13:36<17:53, 22.37s/it]\u001b[A\u001b[A\u001b[A\u001b[A"
          ],
          "name": "stderr"
        },
        {
          "output_type": "stream",
          "text": [
            "Baseline (Interpolation smoothing, n=4, delta_1=0.2000, delta_2=0.2000, delta_3=0.2000, delta_4=0.4000)) Valid Perplexity: 136.651\n",
            "\n",
            "Baseline (Interpolation smoothing, n=4, delta_1=0.2000, delta_2=0.2000, delta_3=0.3000, delta_4=0.3000)) Train Perplexity: 6.109\n"
          ],
          "name": "stdout"
        },
        {
          "output_type": "stream",
          "text": [
            "\n",
            "\n",
            "\n",
            "\n",
            " 44%|████▍     | 37/84 [14:00<17:54, 22.86s/it]\u001b[A\u001b[A\u001b[A\u001b[A"
          ],
          "name": "stderr"
        },
        {
          "output_type": "stream",
          "text": [
            "Baseline (Interpolation smoothing, n=4, delta_1=0.2000, delta_2=0.2000, delta_3=0.3000, delta_4=0.3000)) Valid Perplexity: 138.304\n",
            "\n",
            "Baseline (Interpolation smoothing, n=4, delta_1=0.2000, delta_2=0.2000, delta_3=0.4000, delta_4=0.2000)) Train Perplexity: 8.452\n"
          ],
          "name": "stdout"
        },
        {
          "output_type": "stream",
          "text": [
            "\n",
            "\n",
            "\n",
            "\n",
            " 45%|████▌     | 38/84 [14:21<17:00, 22.18s/it]\u001b[A\u001b[A\u001b[A\u001b[A"
          ],
          "name": "stderr"
        },
        {
          "output_type": "stream",
          "text": [
            "Baseline (Interpolation smoothing, n=4, delta_1=0.2000, delta_2=0.2000, delta_3=0.4000, delta_4=0.2000)) Valid Perplexity: 146.098\n",
            "\n",
            "Baseline (Interpolation smoothing, n=4, delta_1=0.2000, delta_2=0.2000, delta_3=0.5000, delta_4=0.1000)) Train Perplexity: 14.315\n"
          ],
          "name": "stdout"
        },
        {
          "output_type": "stream",
          "text": [
            "\n",
            "\n",
            "\n",
            "\n",
            " 46%|████▋     | 39/84 [14:45<17:01, 22.69s/it]\u001b[A\u001b[A\u001b[A\u001b[A"
          ],
          "name": "stderr"
        },
        {
          "output_type": "stream",
          "text": [
            "Baseline (Interpolation smoothing, n=4, delta_1=0.2000, delta_2=0.2000, delta_3=0.5000, delta_4=0.1000)) Valid Perplexity: 163.127\n",
            "\n",
            "Baseline (Interpolation smoothing, n=4, delta_1=0.2000, delta_2=0.3000, delta_3=0.1000, delta_4=0.4000)) Train Perplexity: 4.848\n"
          ],
          "name": "stdout"
        },
        {
          "output_type": "stream",
          "text": [
            "\n",
            "\n",
            "\n",
            "\n",
            " 48%|████▊     | 40/84 [15:09<16:55, 23.08s/it]\u001b[A\u001b[A\u001b[A\u001b[A"
          ],
          "name": "stderr"
        },
        {
          "output_type": "stream",
          "text": [
            "Baseline (Interpolation smoothing, n=4, delta_1=0.2000, delta_2=0.3000, delta_3=0.1000, delta_4=0.4000)) Valid Perplexity: 138.398\n",
            "\n",
            "Baseline (Interpolation smoothing, n=4, delta_1=0.2000, delta_2=0.3000, delta_3=0.2000, delta_4=0.3000)) Train Perplexity: 6.109\n"
          ],
          "name": "stdout"
        },
        {
          "output_type": "stream",
          "text": [
            "\n",
            "\n",
            "\n",
            "\n",
            " 49%|████▉     | 41/84 [15:30<16:05, 22.45s/it]\u001b[A\u001b[A\u001b[A\u001b[A"
          ],
          "name": "stderr"
        },
        {
          "output_type": "stream",
          "text": [
            "Baseline (Interpolation smoothing, n=4, delta_1=0.2000, delta_2=0.3000, delta_3=0.2000, delta_4=0.3000)) Valid Perplexity: 138.304\n",
            "\n",
            "Baseline (Interpolation smoothing, n=4, delta_1=0.2000, delta_2=0.3000, delta_3=0.3000, delta_4=0.2000)) Train Perplexity: 8.413\n"
          ],
          "name": "stdout"
        },
        {
          "output_type": "stream",
          "text": [
            "\n",
            "\n",
            "\n",
            "\n",
            " 50%|█████     | 42/84 [15:54<16:08, 23.06s/it]\u001b[A\u001b[A\u001b[A\u001b[A"
          ],
          "name": "stderr"
        },
        {
          "output_type": "stream",
          "text": [
            "Baseline (Interpolation smoothing, n=4, delta_1=0.2000, delta_2=0.3000, delta_3=0.3000, delta_4=0.2000)) Valid Perplexity: 143.634\n",
            "\n",
            "Baseline (Interpolation smoothing, n=4, delta_1=0.2000, delta_2=0.3000, delta_3=0.4000, delta_4=0.1000)) Train Perplexity: 14.111\n"
          ],
          "name": "stdout"
        },
        {
          "output_type": "stream",
          "text": [
            "\n",
            "\n",
            "\n",
            "\n",
            " 51%|█████     | 43/84 [16:15<15:19, 22.42s/it]\u001b[A\u001b[A\u001b[A\u001b[A"
          ],
          "name": "stderr"
        },
        {
          "output_type": "stream",
          "text": [
            "Baseline (Interpolation smoothing, n=4, delta_1=0.2000, delta_2=0.3000, delta_3=0.4000, delta_4=0.1000)) Valid Perplexity: 156.577\n",
            "\n",
            "Baseline (Interpolation smoothing, n=4, delta_1=0.2000, delta_2=0.4000, delta_3=0.1000, delta_4=0.3000)) Train Perplexity: 6.150\n"
          ],
          "name": "stdout"
        },
        {
          "output_type": "stream",
          "text": [
            "\n",
            "\n",
            "\n",
            "\n",
            " 52%|█████▏    | 44/84 [16:40<15:19, 22.98s/it]\u001b[A\u001b[A\u001b[A\u001b[A"
          ],
          "name": "stderr"
        },
        {
          "output_type": "stream",
          "text": [
            "Baseline (Interpolation smoothing, n=4, delta_1=0.2000, delta_2=0.4000, delta_3=0.1000, delta_4=0.3000)) Valid Perplexity: 142.459\n",
            "\n",
            "Baseline (Interpolation smoothing, n=4, delta_1=0.2000, delta_2=0.4000, delta_3=0.2000, delta_4=0.2000)) Train Perplexity: 8.452\n"
          ],
          "name": "stdout"
        },
        {
          "output_type": "stream",
          "text": [
            "\n",
            "\n",
            "\n",
            "\n",
            " 54%|█████▎    | 45/84 [17:04<15:11, 23.36s/it]\u001b[A\u001b[A\u001b[A\u001b[A"
          ],
          "name": "stderr"
        },
        {
          "output_type": "stream",
          "text": [
            "Baseline (Interpolation smoothing, n=4, delta_1=0.2000, delta_2=0.4000, delta_3=0.2000, delta_4=0.2000)) Valid Perplexity: 146.098\n",
            "\n",
            "Baseline (Interpolation smoothing, n=4, delta_1=0.2000, delta_2=0.4000, delta_3=0.3000, delta_4=0.1000)) Train Perplexity: 14.111\n"
          ],
          "name": "stdout"
        },
        {
          "output_type": "stream",
          "text": [
            "\n",
            "\n",
            "\n",
            "\n",
            " 55%|█████▍    | 46/84 [17:25<14:21, 22.66s/it]\u001b[A\u001b[A\u001b[A\u001b[A"
          ],
          "name": "stderr"
        },
        {
          "output_type": "stream",
          "text": [
            "Baseline (Interpolation smoothing, n=4, delta_1=0.2000, delta_2=0.4000, delta_3=0.3000, delta_4=0.1000)) Valid Perplexity: 156.577\n",
            "\n",
            "Baseline (Interpolation smoothing, n=4, delta_1=0.2000, delta_2=0.5000, delta_3=0.1000, delta_4=0.2000)) Train Perplexity: 8.573\n"
          ],
          "name": "stdout"
        },
        {
          "output_type": "stream",
          "text": [
            "\n",
            "\n",
            "\n",
            "\n",
            " 56%|█████▌    | 47/84 [17:49<14:17, 23.18s/it]\u001b[A\u001b[A\u001b[A\u001b[A"
          ],
          "name": "stderr"
        },
        {
          "output_type": "stream",
          "text": [
            "Baseline (Interpolation smoothing, n=4, delta_1=0.2000, delta_2=0.5000, delta_3=0.1000, delta_4=0.2000)) Valid Perplexity: 154.056\n",
            "\n",
            "Baseline (Interpolation smoothing, n=4, delta_1=0.2000, delta_2=0.5000, delta_3=0.2000, delta_4=0.1000)) Train Perplexity: 14.315\n"
          ],
          "name": "stdout"
        },
        {
          "output_type": "stream",
          "text": [
            "\n",
            "\n",
            "\n",
            "\n",
            " 57%|█████▋    | 48/84 [18:10<13:32, 22.58s/it]\u001b[A\u001b[A\u001b[A\u001b[A"
          ],
          "name": "stderr"
        },
        {
          "output_type": "stream",
          "text": [
            "Baseline (Interpolation smoothing, n=4, delta_1=0.2000, delta_2=0.5000, delta_3=0.2000, delta_4=0.1000)) Valid Perplexity: 163.127\n",
            "\n",
            "Baseline (Interpolation smoothing, n=4, delta_1=0.2000, delta_2=0.6000, delta_3=0.1000, delta_4=0.1000)) Train Perplexity: 14.752\n"
          ],
          "name": "stdout"
        },
        {
          "output_type": "stream",
          "text": [
            "\n",
            "\n",
            "\n",
            "\n",
            " 58%|█████▊    | 49/84 [18:35<13:27, 23.09s/it]\u001b[A\u001b[A\u001b[A\u001b[A"
          ],
          "name": "stderr"
        },
        {
          "output_type": "stream",
          "text": [
            "Baseline (Interpolation smoothing, n=4, delta_1=0.2000, delta_2=0.6000, delta_3=0.1000, delta_4=0.1000)) Valid Perplexity: 178.114\n",
            "\n",
            "Baseline (Interpolation smoothing, n=4, delta_1=0.3000, delta_2=0.1000, delta_3=0.1000, delta_4=0.5000)) Train Perplexity: 3.723\n"
          ],
          "name": "stdout"
        },
        {
          "output_type": "stream",
          "text": [
            "\n",
            "\n",
            "\n",
            "\n",
            " 60%|█████▉    | 50/84 [18:56<12:43, 22.47s/it]\u001b[A\u001b[A\u001b[A\u001b[A"
          ],
          "name": "stderr"
        },
        {
          "output_type": "stream",
          "text": [
            "Baseline (Interpolation smoothing, n=4, delta_1=0.3000, delta_2=0.1000, delta_3=0.1000, delta_4=0.5000)) Valid Perplexity: 91.747\n",
            "\n",
            "Baseline (Interpolation smoothing, n=4, delta_1=0.3000, delta_2=0.1000, delta_3=0.2000, delta_4=0.4000)) Train Perplexity: 4.398\n"
          ],
          "name": "stdout"
        },
        {
          "output_type": "stream",
          "text": [
            "\n",
            "\n",
            "\n",
            "\n",
            " 61%|██████    | 51/84 [19:20<12:38, 22.98s/it]\u001b[A\u001b[A\u001b[A\u001b[A"
          ],
          "name": "stderr"
        },
        {
          "output_type": "stream",
          "text": [
            "Baseline (Interpolation smoothing, n=4, delta_1=0.3000, delta_2=0.1000, delta_3=0.2000, delta_4=0.4000)) Valid Perplexity: 88.732\n",
            "\n",
            "Baseline (Interpolation smoothing, n=4, delta_1=0.3000, delta_2=0.1000, delta_3=0.3000, delta_4=0.3000)) Train Perplexity: 5.468\n"
          ],
          "name": "stdout"
        },
        {
          "output_type": "stream",
          "text": [
            "\n",
            "\n",
            "\n",
            "\n",
            " 62%|██████▏   | 52/84 [19:44<12:27, 23.35s/it]\u001b[A\u001b[A\u001b[A\u001b[A"
          ],
          "name": "stderr"
        },
        {
          "output_type": "stream",
          "text": [
            "Baseline (Interpolation smoothing, n=4, delta_1=0.3000, delta_2=0.1000, delta_3=0.3000, delta_4=0.3000)) Valid Perplexity: 89.414\n",
            "\n",
            "Baseline (Interpolation smoothing, n=4, delta_1=0.3000, delta_2=0.1000, delta_3=0.4000, delta_4=0.2000)) Train Perplexity: 7.407\n"
          ],
          "name": "stdout"
        },
        {
          "output_type": "stream",
          "text": [
            "\n",
            "\n",
            "\n",
            "\n",
            " 63%|██████▎   | 53/84 [20:05<11:41, 22.64s/it]\u001b[A\u001b[A\u001b[A\u001b[A"
          ],
          "name": "stderr"
        },
        {
          "output_type": "stream",
          "text": [
            "Baseline (Interpolation smoothing, n=4, delta_1=0.3000, delta_2=0.1000, delta_3=0.4000, delta_4=0.2000)) Valid Perplexity: 93.999\n",
            "\n",
            "Baseline (Interpolation smoothing, n=4, delta_1=0.3000, delta_2=0.1000, delta_3=0.5000, delta_4=0.1000)) Train Perplexity: 12.105\n"
          ],
          "name": "stdout"
        },
        {
          "output_type": "stream",
          "text": [
            "\n",
            "\n",
            "\n",
            "\n",
            " 64%|██████▍   | 54/84 [20:29<11:34, 23.14s/it]\u001b[A\u001b[A\u001b[A\u001b[A"
          ],
          "name": "stderr"
        },
        {
          "output_type": "stream",
          "text": [
            "Baseline (Interpolation smoothing, n=4, delta_1=0.3000, delta_2=0.1000, delta_3=0.5000, delta_4=0.1000)) Valid Perplexity: 104.211\n",
            "\n",
            "Baseline (Interpolation smoothing, n=4, delta_1=0.3000, delta_2=0.2000, delta_3=0.1000, delta_4=0.4000)) Train Perplexity: 4.398\n"
          ],
          "name": "stdout"
        },
        {
          "output_type": "stream",
          "text": [
            "\n",
            "\n",
            "\n",
            "\n",
            " 65%|██████▌   | 55/84 [20:50<10:51, 22.45s/it]\u001b[A\u001b[A\u001b[A\u001b[A"
          ],
          "name": "stderr"
        },
        {
          "output_type": "stream",
          "text": [
            "Baseline (Interpolation smoothing, n=4, delta_1=0.3000, delta_2=0.2000, delta_3=0.1000, delta_4=0.4000)) Valid Perplexity: 88.732\n",
            "\n",
            "Baseline (Interpolation smoothing, n=4, delta_1=0.3000, delta_2=0.2000, delta_3=0.2000, delta_4=0.3000)) Train Perplexity: 5.447\n"
          ],
          "name": "stdout"
        },
        {
          "output_type": "stream",
          "text": [
            "\n",
            "\n",
            "\n",
            "\n",
            " 67%|██████▋   | 56/84 [21:15<10:45, 23.06s/it]\u001b[A\u001b[A\u001b[A\u001b[A"
          ],
          "name": "stderr"
        },
        {
          "output_type": "stream",
          "text": [
            "Baseline (Interpolation smoothing, n=4, delta_1=0.3000, delta_2=0.2000, delta_3=0.2000, delta_4=0.3000)) Valid Perplexity: 88.222\n",
            "\n",
            "Baseline (Interpolation smoothing, n=4, delta_1=0.3000, delta_2=0.2000, delta_3=0.3000, delta_4=0.2000)) Train Perplexity: 7.331\n"
          ],
          "name": "stdout"
        },
        {
          "output_type": "stream",
          "text": [
            "\n",
            "\n",
            "\n",
            "\n",
            " 68%|██████▊   | 57/84 [21:40<10:37, 23.61s/it]\u001b[A\u001b[A\u001b[A\u001b[A"
          ],
          "name": "stderr"
        },
        {
          "output_type": "stream",
          "text": [
            "Baseline (Interpolation smoothing, n=4, delta_1=0.3000, delta_2=0.2000, delta_3=0.3000, delta_4=0.2000)) Valid Perplexity: 91.099\n",
            "\n",
            "Baseline (Interpolation smoothing, n=4, delta_1=0.3000, delta_2=0.2000, delta_3=0.4000, delta_4=0.1000)) Train Perplexity: 11.832\n"
          ],
          "name": "stdout"
        },
        {
          "output_type": "stream",
          "text": [
            "\n",
            "\n",
            "\n",
            "\n",
            " 69%|██████▉   | 58/84 [22:01<09:52, 22.78s/it]\u001b[A\u001b[A\u001b[A\u001b[A"
          ],
          "name": "stderr"
        },
        {
          "output_type": "stream",
          "text": [
            "Baseline (Interpolation smoothing, n=4, delta_1=0.3000, delta_2=0.2000, delta_3=0.4000, delta_4=0.1000)) Valid Perplexity: 98.485\n",
            "\n",
            "Baseline (Interpolation smoothing, n=4, delta_1=0.3000, delta_2=0.3000, delta_3=0.1000, delta_4=0.3000)) Train Perplexity: 5.468\n"
          ],
          "name": "stdout"
        },
        {
          "output_type": "stream",
          "text": [
            "\n",
            "\n",
            "\n",
            "\n",
            " 70%|███████   | 59/84 [22:25<09:41, 23.24s/it]\u001b[A\u001b[A\u001b[A\u001b[A"
          ],
          "name": "stderr"
        },
        {
          "output_type": "stream",
          "text": [
            "Baseline (Interpolation smoothing, n=4, delta_1=0.3000, delta_2=0.3000, delta_3=0.1000, delta_4=0.3000)) Valid Perplexity: 89.414\n",
            "\n",
            "Baseline (Interpolation smoothing, n=4, delta_1=0.3000, delta_2=0.3000, delta_3=0.2000, delta_4=0.2000)) Train Perplexity: 7.331\n"
          ],
          "name": "stdout"
        },
        {
          "output_type": "stream",
          "text": [
            "\n",
            "\n",
            "\n",
            "\n",
            " 71%|███████▏  | 60/84 [22:50<09:30, 23.75s/it]\u001b[A\u001b[A\u001b[A\u001b[A"
          ],
          "name": "stderr"
        },
        {
          "output_type": "stream",
          "text": [
            "Baseline (Interpolation smoothing, n=4, delta_1=0.3000, delta_2=0.3000, delta_3=0.2000, delta_4=0.2000)) Valid Perplexity: 91.099\n",
            "\n",
            "Baseline (Interpolation smoothing, n=4, delta_1=0.3000, delta_2=0.3000, delta_3=0.3000, delta_4=0.1000)) Train Perplexity: 11.745\n"
          ],
          "name": "stdout"
        },
        {
          "output_type": "stream",
          "text": [
            "\n",
            "\n",
            "\n",
            "\n",
            " 73%|███████▎  | 61/84 [23:11<08:48, 22.98s/it]\u001b[A\u001b[A\u001b[A\u001b[A"
          ],
          "name": "stderr"
        },
        {
          "output_type": "stream",
          "text": [
            "Baseline (Interpolation smoothing, n=4, delta_1=0.3000, delta_2=0.3000, delta_3=0.3000, delta_4=0.1000)) Valid Perplexity: 96.718\n",
            "\n",
            "Baseline (Interpolation smoothing, n=4, delta_1=0.3000, delta_2=0.4000, delta_3=0.1000, delta_4=0.2000)) Train Perplexity: 7.407\n"
          ],
          "name": "stdout"
        },
        {
          "output_type": "stream",
          "text": [
            "\n",
            "\n",
            "\n",
            "\n",
            " 74%|███████▍  | 62/84 [23:35<08:35, 23.44s/it]\u001b[A\u001b[A\u001b[A\u001b[A"
          ],
          "name": "stderr"
        },
        {
          "output_type": "stream",
          "text": [
            "Baseline (Interpolation smoothing, n=4, delta_1=0.3000, delta_2=0.4000, delta_3=0.1000, delta_4=0.2000)) Valid Perplexity: 93.999\n",
            "\n",
            "Baseline (Interpolation smoothing, n=4, delta_1=0.3000, delta_2=0.4000, delta_3=0.2000, delta_4=0.1000)) Train Perplexity: 11.832\n"
          ],
          "name": "stdout"
        },
        {
          "output_type": "stream",
          "text": [
            "\n",
            "\n",
            "\n",
            "\n",
            " 75%|███████▌  | 63/84 [23:57<07:58, 22.78s/it]\u001b[A\u001b[A\u001b[A\u001b[A"
          ],
          "name": "stderr"
        },
        {
          "output_type": "stream",
          "text": [
            "Baseline (Interpolation smoothing, n=4, delta_1=0.3000, delta_2=0.4000, delta_3=0.2000, delta_4=0.1000)) Valid Perplexity: 98.485\n",
            "\n",
            "Baseline (Interpolation smoothing, n=4, delta_1=0.3000, delta_2=0.5000, delta_3=0.1000, delta_4=0.1000)) Train Perplexity: 12.105\n"
          ],
          "name": "stdout"
        },
        {
          "output_type": "stream",
          "text": [
            "\n",
            "\n",
            "\n",
            "\n",
            " 76%|███████▌  | 64/84 [24:21<07:46, 23.32s/it]\u001b[A\u001b[A\u001b[A\u001b[A"
          ],
          "name": "stderr"
        },
        {
          "output_type": "stream",
          "text": [
            "Baseline (Interpolation smoothing, n=4, delta_1=0.3000, delta_2=0.5000, delta_3=0.1000, delta_4=0.1000)) Valid Perplexity: 104.211\n",
            "\n",
            "Baseline (Interpolation smoothing, n=4, delta_1=0.4000, delta_2=0.1000, delta_3=0.1000, delta_4=0.4000)) Train Perplexity: 4.009\n"
          ],
          "name": "stdout"
        },
        {
          "output_type": "stream",
          "text": [
            "\n",
            "\n",
            "\n",
            "\n",
            " 77%|███████▋  | 65/84 [24:43<07:12, 22.76s/it]\u001b[A\u001b[A\u001b[A\u001b[A"
          ],
          "name": "stderr"
        },
        {
          "output_type": "stream",
          "text": [
            "Baseline (Interpolation smoothing, n=4, delta_1=0.4000, delta_2=0.1000, delta_3=0.1000, delta_4=0.4000)) Valid Perplexity: 62.722\n",
            "\n",
            "Baseline (Interpolation smoothing, n=4, delta_1=0.4000, delta_2=0.1000, delta_3=0.2000, delta_4=0.3000)) Train Perplexity: 4.895\n"
          ],
          "name": "stdout"
        },
        {
          "output_type": "stream",
          "text": [
            "\n",
            "\n",
            "\n",
            "\n",
            " 79%|███████▊  | 66/84 [25:07<07:00, 23.36s/it]\u001b[A\u001b[A\u001b[A\u001b[A"
          ],
          "name": "stderr"
        },
        {
          "output_type": "stream",
          "text": [
            "Baseline (Interpolation smoothing, n=4, delta_1=0.4000, delta_2=0.1000, delta_3=0.2000, delta_4=0.3000)) Valid Perplexity: 62.124\n",
            "\n",
            "Baseline (Interpolation smoothing, n=4, delta_1=0.4000, delta_2=0.1000, delta_3=0.3000, delta_4=0.2000)) Train Perplexity: 6.471\n"
          ],
          "name": "stdout"
        },
        {
          "output_type": "stream",
          "text": [
            "\n",
            "\n",
            "\n",
            "\n",
            " 80%|███████▉  | 67/84 [25:33<06:45, 23.87s/it]\u001b[A\u001b[A\u001b[A\u001b[A"
          ],
          "name": "stderr"
        },
        {
          "output_type": "stream",
          "text": [
            "Baseline (Interpolation smoothing, n=4, delta_1=0.4000, delta_2=0.1000, delta_3=0.3000, delta_4=0.2000)) Valid Perplexity: 63.884\n",
            "\n",
            "Baseline (Interpolation smoothing, n=4, delta_1=0.4000, delta_2=0.1000, delta_3=0.4000, delta_4=0.1000)) Train Perplexity: 10.149\n"
          ],
          "name": "stdout"
        },
        {
          "output_type": "stream",
          "text": [
            "\n",
            "\n",
            "\n",
            "\n",
            " 81%|████████  | 68/84 [25:55<06:12, 23.29s/it]\u001b[A\u001b[A\u001b[A\u001b[A"
          ],
          "name": "stderr"
        },
        {
          "output_type": "stream",
          "text": [
            "Baseline (Interpolation smoothing, n=4, delta_1=0.4000, delta_2=0.1000, delta_3=0.4000, delta_4=0.1000)) Valid Perplexity: 68.675\n",
            "\n",
            "Baseline (Interpolation smoothing, n=4, delta_1=0.4000, delta_2=0.2000, delta_3=0.1000, delta_4=0.3000)) Train Perplexity: 4.895\n"
          ],
          "name": "stdout"
        },
        {
          "output_type": "stream",
          "text": [
            "\n",
            "\n",
            "\n",
            "\n",
            " 82%|████████▏ | 69/84 [26:21<06:01, 24.11s/it]\u001b[A\u001b[A\u001b[A\u001b[A"
          ],
          "name": "stderr"
        },
        {
          "output_type": "stream",
          "text": [
            "Baseline (Interpolation smoothing, n=4, delta_1=0.4000, delta_2=0.2000, delta_3=0.1000, delta_4=0.3000)) Valid Perplexity: 62.124\n",
            "\n",
            "Baseline (Interpolation smoothing, n=4, delta_1=0.4000, delta_2=0.2000, delta_3=0.2000, delta_4=0.2000)) Train Perplexity: 6.437\n"
          ],
          "name": "stdout"
        },
        {
          "output_type": "stream",
          "text": [
            "\n",
            "\n",
            "\n",
            "\n",
            " 83%|████████▎ | 70/84 [26:43<05:28, 23.49s/it]\u001b[A\u001b[A\u001b[A\u001b[A"
          ],
          "name": "stderr"
        },
        {
          "output_type": "stream",
          "text": [
            "Baseline (Interpolation smoothing, n=4, delta_1=0.4000, delta_2=0.2000, delta_3=0.2000, delta_4=0.2000)) Valid Perplexity: 62.998\n",
            "\n",
            "Baseline (Interpolation smoothing, n=4, delta_1=0.4000, delta_2=0.2000, delta_3=0.3000, delta_4=0.1000)) Train Perplexity: 10.002\n"
          ],
          "name": "stdout"
        },
        {
          "output_type": "stream",
          "text": [
            "\n",
            "\n",
            "\n",
            "\n",
            " 85%|████████▍ | 71/84 [27:07<05:09, 23.84s/it]\u001b[A\u001b[A\u001b[A\u001b[A"
          ],
          "name": "stderr"
        },
        {
          "output_type": "stream",
          "text": [
            "Baseline (Interpolation smoothing, n=4, delta_1=0.4000, delta_2=0.2000, delta_3=0.3000, delta_4=0.1000)) Valid Perplexity: 66.461\n",
            "\n",
            "Baseline (Interpolation smoothing, n=4, delta_1=0.4000, delta_2=0.3000, delta_3=0.1000, delta_4=0.2000)) Train Perplexity: 6.471\n"
          ],
          "name": "stdout"
        },
        {
          "output_type": "stream",
          "text": [
            "\n",
            "\n",
            "\n",
            "\n",
            " 86%|████████▌ | 72/84 [27:32<04:50, 24.20s/it]\u001b[A\u001b[A\u001b[A\u001b[A"
          ],
          "name": "stderr"
        },
        {
          "output_type": "stream",
          "text": [
            "Baseline (Interpolation smoothing, n=4, delta_1=0.4000, delta_2=0.3000, delta_3=0.1000, delta_4=0.2000)) Valid Perplexity: 63.884\n",
            "\n",
            "Baseline (Interpolation smoothing, n=4, delta_1=0.4000, delta_2=0.3000, delta_3=0.2000, delta_4=0.1000)) Train Perplexity: 10.002\n"
          ],
          "name": "stdout"
        },
        {
          "output_type": "stream",
          "text": [
            "\n",
            "\n",
            "\n",
            "\n",
            " 87%|████████▋ | 73/84 [27:54<04:18, 23.50s/it]\u001b[A\u001b[A\u001b[A\u001b[A"
          ],
          "name": "stderr"
        },
        {
          "output_type": "stream",
          "text": [
            "Baseline (Interpolation smoothing, n=4, delta_1=0.4000, delta_2=0.3000, delta_3=0.2000, delta_4=0.1000)) Valid Perplexity: 66.461\n",
            "\n",
            "Baseline (Interpolation smoothing, n=4, delta_1=0.4000, delta_2=0.4000, delta_3=0.1000, delta_4=0.1000)) Train Perplexity: 10.149\n"
          ],
          "name": "stdout"
        },
        {
          "output_type": "stream",
          "text": [
            "\n",
            "\n",
            "\n",
            "\n",
            " 88%|████████▊ | 74/84 [28:19<04:00, 24.05s/it]\u001b[A\u001b[A\u001b[A\u001b[A"
          ],
          "name": "stderr"
        },
        {
          "output_type": "stream",
          "text": [
            "Baseline (Interpolation smoothing, n=4, delta_1=0.4000, delta_2=0.4000, delta_3=0.1000, delta_4=0.1000)) Valid Perplexity: 68.675\n",
            "\n",
            "Baseline (Interpolation smoothing, n=4, delta_1=0.5000, delta_2=0.1000, delta_3=0.1000, delta_4=0.3000)) Train Perplexity: 4.412\n"
          ],
          "name": "stdout"
        },
        {
          "output_type": "stream",
          "text": [
            "\n",
            "\n",
            "\n",
            "\n",
            " 89%|████████▉ | 75/84 [28:45<03:40, 24.45s/it]\u001b[A\u001b[A\u001b[A\u001b[A"
          ],
          "name": "stderr"
        },
        {
          "output_type": "stream",
          "text": [
            "Baseline (Interpolation smoothing, n=4, delta_1=0.5000, delta_2=0.1000, delta_3=0.1000, delta_4=0.3000)) Valid Perplexity: 45.920\n",
            "\n",
            "Baseline (Interpolation smoothing, n=4, delta_1=0.5000, delta_2=0.1000, delta_3=0.2000, delta_4=0.2000)) Train Perplexity: 5.711\n"
          ],
          "name": "stdout"
        },
        {
          "output_type": "stream",
          "text": [
            "\n",
            "\n",
            "\n",
            "\n",
            " 90%|█████████ | 76/84 [29:07<03:09, 23.67s/it]\u001b[A\u001b[A\u001b[A\u001b[A"
          ],
          "name": "stderr"
        },
        {
          "output_type": "stream",
          "text": [
            "Baseline (Interpolation smoothing, n=4, delta_1=0.5000, delta_2=0.1000, delta_3=0.2000, delta_4=0.2000)) Valid Perplexity: 46.403\n",
            "\n",
            "Baseline (Interpolation smoothing, n=4, delta_1=0.5000, delta_2=0.1000, delta_3=0.3000, delta_4=0.1000)) Train Perplexity: 8.665\n"
          ],
          "name": "stdout"
        },
        {
          "output_type": "stream",
          "text": [
            "\n",
            "\n",
            "\n",
            "\n",
            " 92%|█████████▏| 77/84 [29:32<02:49, 24.27s/it]\u001b[A\u001b[A\u001b[A\u001b[A"
          ],
          "name": "stderr"
        },
        {
          "output_type": "stream",
          "text": [
            "Baseline (Interpolation smoothing, n=4, delta_1=0.5000, delta_2=0.1000, delta_3=0.3000, delta_4=0.1000)) Valid Perplexity: 48.732\n",
            "\n",
            "Baseline (Interpolation smoothing, n=4, delta_1=0.5000, delta_2=0.2000, delta_3=0.1000, delta_4=0.2000)) Train Perplexity: 5.711\n"
          ],
          "name": "stdout"
        },
        {
          "output_type": "stream",
          "text": [
            "\n",
            "\n",
            "\n",
            "\n",
            " 93%|█████████▎| 78/84 [29:54<02:21, 23.60s/it]\u001b[A\u001b[A\u001b[A\u001b[A"
          ],
          "name": "stderr"
        },
        {
          "output_type": "stream",
          "text": [
            "Baseline (Interpolation smoothing, n=4, delta_1=0.5000, delta_2=0.2000, delta_3=0.1000, delta_4=0.2000)) Valid Perplexity: 46.403\n",
            "\n",
            "Baseline (Interpolation smoothing, n=4, delta_1=0.5000, delta_2=0.2000, delta_3=0.2000, delta_4=0.1000)) Train Perplexity: 8.605\n"
          ],
          "name": "stdout"
        },
        {
          "output_type": "stream",
          "text": [
            "\n",
            "\n",
            "\n",
            "\n",
            " 94%|█████████▍| 79/84 [30:20<02:01, 24.26s/it]\u001b[A\u001b[A\u001b[A\u001b[A"
          ],
          "name": "stderr"
        },
        {
          "output_type": "stream",
          "text": [
            "Baseline (Interpolation smoothing, n=4, delta_1=0.5000, delta_2=0.2000, delta_3=0.2000, delta_4=0.1000)) Valid Perplexity: 48.032\n",
            "\n",
            "Baseline (Interpolation smoothing, n=4, delta_1=0.5000, delta_2=0.3000, delta_3=0.1000, delta_4=0.1000)) Train Perplexity: 8.665\n"
          ],
          "name": "stdout"
        },
        {
          "output_type": "stream",
          "text": [
            "\n",
            "\n",
            "\n",
            "\n",
            " 95%|█████████▌| 80/84 [30:43<01:34, 23.70s/it]\u001b[A\u001b[A\u001b[A\u001b[A"
          ],
          "name": "stderr"
        },
        {
          "output_type": "stream",
          "text": [
            "Baseline (Interpolation smoothing, n=4, delta_1=0.5000, delta_2=0.3000, delta_3=0.1000, delta_4=0.1000)) Valid Perplexity: 48.732\n",
            "\n",
            "Baseline (Interpolation smoothing, n=4, delta_1=0.6000, delta_2=0.1000, delta_3=0.1000, delta_4=0.2000)) Train Perplexity: 5.087\n"
          ],
          "name": "stdout"
        },
        {
          "output_type": "stream",
          "text": [
            "\n",
            "\n",
            "\n",
            "\n",
            " 96%|█████████▋| 81/84 [31:08<01:12, 24.19s/it]\u001b[A\u001b[A\u001b[A\u001b[A"
          ],
          "name": "stderr"
        },
        {
          "output_type": "stream",
          "text": [
            "Baseline (Interpolation smoothing, n=4, delta_1=0.6000, delta_2=0.1000, delta_3=0.1000, delta_4=0.2000)) Valid Perplexity: 35.291\n",
            "\n",
            "Baseline (Interpolation smoothing, n=4, delta_1=0.6000, delta_2=0.1000, delta_3=0.2000, delta_4=0.1000)) Train Perplexity: 7.508\n"
          ],
          "name": "stdout"
        },
        {
          "output_type": "stream",
          "text": [
            "\n",
            "\n",
            "\n",
            "\n",
            " 98%|█████████▊| 82/84 [31:34<00:49, 24.67s/it]\u001b[A\u001b[A\u001b[A\u001b[A"
          ],
          "name": "stderr"
        },
        {
          "output_type": "stream",
          "text": [
            "Baseline (Interpolation smoothing, n=4, delta_1=0.6000, delta_2=0.1000, delta_3=0.2000, delta_4=0.1000)) Valid Perplexity: 36.393\n",
            "\n",
            "Baseline (Interpolation smoothing, n=4, delta_1=0.6000, delta_2=0.2000, delta_3=0.1000, delta_4=0.1000)) Train Perplexity: 7.508\n"
          ],
          "name": "stdout"
        },
        {
          "output_type": "stream",
          "text": [
            "\n",
            "\n",
            "\n",
            "\n",
            " 99%|█████████▉| 83/84 [31:56<00:24, 24.09s/it]\u001b[A\u001b[A\u001b[A\u001b[A"
          ],
          "name": "stderr"
        },
        {
          "output_type": "stream",
          "text": [
            "Baseline (Interpolation smoothing, n=4, delta_1=0.6000, delta_2=0.2000, delta_3=0.1000, delta_4=0.1000)) Valid Perplexity: 36.393\n",
            "\n",
            "Baseline (Interpolation smoothing, n=4, delta_1=0.7000, delta_2=0.1000, delta_3=0.1000, delta_4=0.1000)) Train Perplexity: 6.587\n"
          ],
          "name": "stdout"
        },
        {
          "output_type": "stream",
          "text": [
            "\n",
            "\n",
            "\n",
            "\n",
            "100%|██████████| 84/84 [32:22<00:00, 23.12s/it]"
          ],
          "name": "stderr"
        },
        {
          "output_type": "stream",
          "text": [
            "Baseline (Interpolation smoothing, n=4, delta_1=0.7000, delta_2=0.1000, delta_3=0.1000, delta_4=0.1000)) Valid Perplexity: 28.220\n",
            "\n"
          ],
          "name": "stdout"
        },
        {
          "output_type": "stream",
          "text": [
            "\n"
          ],
          "name": "stderr"
        }
      ]
    },
    {
      "cell_type": "markdown",
      "metadata": {
        "id": "CxUETYf3WWBE"
      },
      "source": [
        "Now compare the performance of the two smoothing methods on the test set. Use the best hyperparameters you found for each."
      ]
    },
    {
      "cell_type": "markdown",
      "metadata": {
        "id": "Kze8YhimWWBF"
      },
      "source": [
        "When n = 2, \n",
        "\n",
        "1) Additive Smoothing"
      ]
    },
    {
      "cell_type": "code",
      "metadata": {
        "id": "dy96slwCWWBH",
        "outputId": "001a6511-b61a-4075-a269-4658282b5aec",
        "colab": {
          "base_uri": "https://localhost:8080/"
        }
      },
      "source": [
        "delta = 0.005\n",
        "\n",
        "lm = NGramAdditive(n=2, delta=delta, vsize=len(vocab)+1)  # +1 is for <eos>\n",
        "lm.estimate(datasets['train'])\n",
        "\n",
        "print(\"Baseline (Additive smoothing, n=%d, delta=%.4f)) Test Perplexity: %.3f\" % (n, delta, perplexity(lm, datasets['test'])))"
      ],
      "execution_count": null,
      "outputs": [
        {
          "output_type": "stream",
          "text": [
            "Baseline (Additive smoothing, n=4, delta=0.0050)) Test Perplexity: 447.054\n"
          ],
          "name": "stdout"
        }
      ]
    },
    {
      "cell_type": "markdown",
      "metadata": {
        "id": "ox3bMkOoWWBL"
      },
      "source": [
        "2) Interpolation Smoothing"
      ]
    },
    {
      "cell_type": "code",
      "metadata": {
        "id": "v0B5YVucWWBN",
        "outputId": "99e509e5-6c4c-4acc-c70f-533beb59c8ff",
        "colab": {
          "base_uri": "https://localhost:8080/"
        }
      },
      "source": [
        "delta = (0.9000, 0.1000, 0, 0)\n",
        "\n",
        "lm = NGramInterpolation(n=2, lmd_0=delta[0], lmd_1=delta[1], lmd_2=delta[2], lmd_3=delta[3], vsize=len(vocab)+1)  # +1 is for <eos>\n",
        "lm.estimate(datasets['train'])\n",
        "\n",
        "print(\"Baseline (Interpolation smoothing, n=%d, delta_1=%.4f, delta_2=%.4f, delta_3=%.4f, delta_4=%.4f)) Valid Perplexity: %.3f\" % (n, delta[0], delta[1], delta[2], delta[3], perplexity(lm, datasets['test'])))"
      ],
      "execution_count": null,
      "outputs": [
        {
          "output_type": "stream",
          "text": [
            "Baseline (Interpolation smoothing, n=4, delta_1=0.9000, delta_2=0.1000, delta_3=0.0000, delta_4=0.0000)) Valid Perplexity: 17.478\n"
          ],
          "name": "stdout"
        }
      ]
    },
    {
      "cell_type": "markdown",
      "metadata": {
        "id": "jBATnb8rWWBU"
      },
      "source": [
        "When n = 3,\n",
        "\n",
        "1) Additive Smoothing"
      ]
    },
    {
      "cell_type": "code",
      "metadata": {
        "id": "U5Ezc0FCWWBU",
        "outputId": "4a808951-fd25-40b3-a58c-b9f19d655a08",
        "colab": {
          "base_uri": "https://localhost:8080/"
        }
      },
      "source": [
        "delta = 0.0005\n",
        "\n",
        "lm = NGramAdditive(n=3, delta=delta, vsize=len(vocab)+1)  # +1 is for <eos>\n",
        "lm.estimate(datasets['train'])\n",
        "\n",
        "print(\"Baseline (Additive smoothing, n=%d, delta=%.4f)) Test Perplexity: %.3f\" % (n, delta, perplexity(lm, datasets['test'])))"
      ],
      "execution_count": null,
      "outputs": [
        {
          "output_type": "stream",
          "text": [
            "Baseline (Additive smoothing, n=4, delta=0.0005)) Test Perplexity: 2417.329\n"
          ],
          "name": "stdout"
        }
      ]
    },
    {
      "cell_type": "markdown",
      "metadata": {
        "id": "XgVGkUfpWWBZ"
      },
      "source": [
        "2) Interpolation Smoothing"
      ]
    },
    {
      "cell_type": "code",
      "metadata": {
        "id": "DP7VgMVFWWBb",
        "outputId": "81900289-991f-4150-8fa6-d8f6fdd46329",
        "colab": {
          "base_uri": "https://localhost:8080/"
        }
      },
      "source": [
        "delta = (0.8000, 0.1000, 0.1000, 0)\n",
        "\n",
        "lm = NGramInterpolation(n=3, lmd_0=delta[0], lmd_1=delta[1], lmd_2=delta[2], lmd_3=delta[3], vsize=len(vocab)+1)  # +1 is for <eos>\n",
        "lm.estimate(datasets['train'])\n",
        "\n",
        "print(\"Baseline (Interpolation smoothing, n=%d, delta_1=%.4f, delta_2=%.4f, delta_3=%.4f, delta_4=%.4f)) Valid Perplexity: %.3f\" % (n, delta[0], delta[1], delta[2], delta[3], perplexity(lm, datasets['test'])))"
      ],
      "execution_count": null,
      "outputs": [
        {
          "output_type": "stream",
          "text": [
            "Baseline (Interpolation smoothing, n=4, delta_1=0.8000, delta_2=0.1000, delta_3=0.1000, delta_4=0.0000)) Valid Perplexity: 20.954\n"
          ],
          "name": "stdout"
        }
      ]
    },
    {
      "cell_type": "markdown",
      "metadata": {
        "id": "tFps35lfWWBg"
      },
      "source": [
        "When n = 4,\n",
        "\n",
        "1) Additive Smoothing"
      ]
    },
    {
      "cell_type": "code",
      "metadata": {
        "id": "xvablGVlWWBh",
        "outputId": "92ddfe77-292c-4471-ae08-d780862bdc47",
        "colab": {
          "base_uri": "https://localhost:8080/"
        }
      },
      "source": [
        "delta = 0.0005\n",
        "\n",
        "lm = NGramAdditive(n=4, delta=delta, vsize=len(vocab)+1)  # +1 is for <eos>\n",
        "lm.estimate(datasets['train'])\n",
        "\n",
        "print(\"Baseline (Additive smoothing, n=%d, delta=%.4f)) Test Perplexity: %.3f\" % (n, delta, perplexity(lm, datasets['test'])))"
      ],
      "execution_count": null,
      "outputs": [
        {
          "output_type": "stream",
          "text": [
            "Baseline (Additive smoothing, n=4, delta=0.0005)) Test Perplexity: 9209.615\n"
          ],
          "name": "stdout"
        }
      ]
    },
    {
      "cell_type": "markdown",
      "metadata": {
        "id": "ljs-dvYgWWBm"
      },
      "source": [
        "2) Interpolation Smoothing"
      ]
    },
    {
      "cell_type": "code",
      "metadata": {
        "id": "xMtsC1iOWWBn",
        "outputId": "3930fd0a-c017-431f-e42f-a36b869af51a",
        "colab": {
          "base_uri": "https://localhost:8080/"
        }
      },
      "source": [
        "delta = (0.7000, 0.1000, 0.1000, .1000)\n",
        "\n",
        "lm = NGramInterpolation(n=3, lmd_0=delta[0], lmd_1=delta[1], lmd_2=delta[2], lmd_3=delta[3], vsize=len(vocab)+1)  # +1 is for <eos>\n",
        "lm.estimate(datasets['train'])\n",
        "\n",
        "print(\"Baseline (Interpolation smoothing, n=%d, delta_1=%.4f, delta_2=%.4f, delta_3=%.4f, delta_4=%.4f)) Valid Perplexity: %.3f\" % (n, delta[0], delta[1], delta[2], delta[3], perplexity(lm, datasets['test'])))"
      ],
      "execution_count": null,
      "outputs": [
        {
          "output_type": "stream",
          "text": [
            "Baseline (Interpolation smoothing, n=4, delta_1=0.7000, delta_2=0.1000, delta_3=0.1000, delta_4=0.1000)) Valid Perplexity: 23.700\n"
          ],
          "name": "stdout"
        }
      ]
    }
  ]
}